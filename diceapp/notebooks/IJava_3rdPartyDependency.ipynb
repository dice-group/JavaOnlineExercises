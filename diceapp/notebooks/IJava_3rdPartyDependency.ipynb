{
 "cells": [
  {
   "cell_type": "markdown",
   "metadata": {},
   "source": [
    "# 3rd Party Dependencies in an IJava Notebook"
   ]
  },
  {
   "cell_type": "markdown",
   "metadata": {},
   "source": [
    "The recommended way to add a dependency is through one of the IJava magics. This way all dependencies are visible in the notebook to make them more portable for others to use. If the dependencies is available via maven then one of the maven magics should be used but if that isn't the case the `%jars` magic is another option.\n",
    "\n",
    "For some additional information see https://github.com/SpencerPark/IJava/blob/7f5aa9ab858859a010fd228364b080606399ae60/docs/magics.md."
   ]
  },
  {
   "cell_type": "markdown",
   "metadata": {},
   "source": [
    "### %jars\n",
    "\n",
    "This _line magic_ takes a space separated list of simple glob patterns for resolving jar files. For example we can add all the jars in `/usr/share/java/` to the classpath and also display the found files."
   ]
  },
  {
   "cell_type": "code",
   "execution_count": null,
   "metadata": {},
   "outputs": [],
   "source": [
    "List<String> added = %jars /usr/share/java/*.jar\n",
    "added"
   ]
  },
  {
   "cell_type": "markdown",
   "metadata": {},
   "source": [
    "### %addMavenDependencies, %addMavenDependency, or %maven\n",
    "\n",
    "These _line magics_ add maven artifacts to the notebook classpath. All transitive dependencies are also added to the classpath. If the artifact is not on maven central then make sure to add the repository with `%mavenRepo`. Dependencies are of the form `groupId:artifactId:[packagingType:[classifier]]:version`."
   ]
  },
  {
   "cell_type": "markdown",
   "metadata": {},
   "source": [
    "### %loadFromPOM and %%loadFromPOM\n",
    "\n",
    "Load any dependencies specified in a POM. The cell magic is designed to make it very simple to copy and paste from any READMEs specifying maven POM fragments to use in depending on an artifact (including repositories other than central).\n",
    "\n",
    "If used as a _line magic_ it accepts a POM to load dependencies from and optionally a list of scopes to import from. The scopes default to `compile`, `runtime`, `system`, and `import`.\n",
    "\n",
    "When used as a _cell magic_ the scopes may be given as in the line magic but the body of the cell must be a _partial_ POM literal.\n",
    "\n",
    "If the body is an xml `<project>` tag, then the body is used as a POM without being modified.\n",
    "\n",
    "Otherwise, the magic attempts to build a POM based on the xml fragments it gets.\n",
    "\n",
    "`<modelVersion>`, `<groupId>`, `<artifactId>`, and `<version>` are given default values if not supplied which there is no reason to supply other than if they happen to be what is copy-and-pasted.\n",
    "\n",
    "All children of `<dependencies>` and `<repositories>` are collected **along with any loose `<dependency>` and `repository` tags**.\n",
    "\n",
    "Ex: To add a dependency not in central simply add a valid `<repository>` and `<dependency>` and the magic will take care of putting it together into a POM."
   ]
  },
  {
   "cell_type": "code",
   "execution_count": null,
   "metadata": {},
   "outputs": [],
   "source": [
    "%%loadFromPOM\n",
    "<repository>\n",
    "  <id>oss-sonatype-snapshots</id>\n",
    "  <url>https://oss.sonatype.org/content/repositories/snapshots/</url>\n",
    "</repository>\n",
    "\n",
    "<dependency>\n",
    "  <groupId>io.github.spencerpark</groupId>\n",
    "  <artifactId>jupyter-jvm-basekernel</artifactId>\n",
    "  <version>2.0.0-SNAPSHOT</version>\n",
    "</dependency>"
   ]
  },
  {
   "cell_type": "markdown",
   "metadata": {},
   "source": [
    "# Quick chart example"
   ]
  },
  {
   "cell_type": "markdown",
   "metadata": {},
   "source": [
    "Find a library you like such as https://github.com/knowm/XChart. Copy the dependency information specified in the README for installation as a maven artifact, put it in a `%%loadFromPOM` and we are good to go!"
   ]
  },
  {
   "cell_type": "code",
   "execution_count": null,
   "metadata": {},
   "outputs": [],
   "source": [
    "%%loadFromPOM\n",
    "<dependency>\n",
    "    <groupId>org.knowm.xchart</groupId>\n",
    "    <artifactId>xchart</artifactId>\n",
    "    <version>3.5.2</version>\n",
    "</dependency>"
   ]
  },
  {
   "cell_type": "markdown",
   "metadata": {},
   "source": [
    "Another option is to collapse that into the short syntax and simply use the `%maven` line magic."
   ]
  },
  {
   "cell_type": "code",
   "execution_count": 1,
   "metadata": {},
   "outputs": [],
   "source": [
    "%maven org.knowm.xchart:xchart:3.5.2\n",
    "import org.knowm.xchart.*;"
   ]
  },
  {
   "cell_type": "markdown",
   "metadata": {},
   "source": [
    "Create a quick chart"
   ]
  },
  {
   "cell_type": "code",
   "execution_count": 2,
   "metadata": {},
   "outputs": [],
   "source": [
    "double[] xData = new double[] { 0.0, 1.0, 2.0 };\n",
    "double[] yData = new double[] { 2.0, 1.0, 0.0 };\n",
    "\n",
    "XYChart chart = QuickChart.getChart(\"Sample Chart\", \"X\", \"Y\", \"y(x)\", xData, yData);"
   ]
  },
  {
   "cell_type": "markdown",
   "metadata": {},
   "source": [
    "Then render it inline!"
   ]
  },
  {
   "cell_type": "code",
   "execution_count": 3,
   "metadata": {},
   "outputs": [
    {
     "data": {
      "image/png": "[encoded data removed]",
      "text/plain": [
       "BufferedImage@48029f6d: type = 1 DirectColorModel: rmask=ff0000 gmask=ff00 bmask=ff amask=0 IntegerInterleavedRaster: width = 600 height = 400 #Bands = 3 xOff = 0 yOff = 0 dataOffset[0] 0"
      ]
     },
     "execution_count": 3,
     "metadata": {},
     "output_type": "execute_result"
    }
   ],
   "source": [
    "BitmapEncoder.getBufferedImage(chart);"
   ]
  }
 ],
 "metadata": {
  "kernelspec": {
   "display_name": "Java",
   "language": "java",
   "name": "java"
  },
  "language_info": {
   "codemirror_mode": "java",
   "file_extension": ".java",
   "mimetype": "text/x-java-source",
   "name": "Java",
   "pygments_lexer": "java",
   "version": "9+181"
  }
 },
 "nbformat": 4,
 "nbformat_minor": 2
}
