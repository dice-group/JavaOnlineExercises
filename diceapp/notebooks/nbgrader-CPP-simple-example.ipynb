{
 "cells": [
  {
   "cell_type": "markdown",
   "metadata": {
    "nbgrader": {
     "grade": false,
     "grade_id": "cell-cb6d6ed35c9bab09",
     "locked": true,
     "schema_version": 1,
     "solution": false
    }
   },
   "source": [
    "# Simple example for C++ and nbgrader\n",
    "\n",
    "You can use Markdown to provide information to the students.\n",
    "\n",
    "* Command help: [Ctrl] + [Shift] + [p]\n",
    "* [Nbgrader documentation](https://nbgrader.readthedocs.io/)\n",
    "* [C++ kernel documentation](https://xeus-cling.readthedocs.io/)\n",
    "* [Some DICE information](https://github.com/dice-group/nbgraderutils)\n",
    "\n",
    "### Cell types in nbgrader\n",
    "\n",
    "Lecturers have to define the type of a cell, e.g. Markdown or Code. You can choose this at the top menue.\n",
    "\n",
    "Additionally, you can set the points for an answer and create manually or autograded answers. To do so, click on \"View\" -> \"Cell Toolbar\" -> \"Create Assignment\".\n",
    "\n",
    "Have a look at the examples below."
   ]
  },
  {
   "cell_type": "markdown",
   "metadata": {
    "nbgrader": {
     "grade": false,
     "grade_id": "cell-1ee375c12d3d41ae",
     "locked": true,
     "schema_version": 1,
     "solution": false
    }
   },
   "source": [
    "## 1. Manually graded text task\n",
    "Who is the best lecturer in the world?"
   ]
  },
  {
   "cell_type": "markdown",
   "metadata": {
    "nbgrader": {
     "grade": true,
     "grade_id": "cell-ef07e58f8575b7d2",
     "locked": false,
     "points": 1,
     "schema_version": 1,
     "solution": true
    }
   },
   "source": [
    " \n",
    " "
   ]
  },
  {
   "cell_type": "markdown",
   "metadata": {
    "nbgrader": {
     "grade": false,
     "grade_id": "cell-366abf49e7ecb17e",
     "locked": true,
     "schema_version": 1,
     "solution": false
    }
   },
   "source": [
    "## 2. Manually graded programming task\n",
    "\n",
    "Write a method call which prints a greetings string.  \n",
    "Use the namespace \"xcpp\", the scope resolution operator \"::\", and the function \"display\".\n",
    "\n",
    "Additionally, you can print strings using the namespace \"std\", the standard output stream \"cout\", and the insertion operator \"<<\"."
   ]
  },
  {
   "cell_type": "code",
   "execution_count": 1,
   "metadata": {
    "nbgrader": {
     "grade": false,
     "grade_id": "cell-8a031ab689c17ab9",
     "locked": true,
     "schema_version": 1,
     "solution": false
    }
   },
   "outputs": [],
   "source": [
    "#include <xcpp/xdisplay.hpp>\n",
    "#include <iostream>"
   ]
  },
  {
   "cell_type": "code",
   "execution_count": null,
   "metadata": {
    "nbgrader": {
     "grade": true,
     "grade_id": "cell-8bd565595479558a",
     "locked": false,
     "points": 2,
     "schema_version": 1,
     "solution": true
    }
   },
   "outputs": [],
   "source": []
  },
  {
   "cell_type": "markdown",
   "metadata": {
    "nbgrader": {
     "grade": false,
     "grade_id": "cell-5680dc683686b00e",
     "locked": true,
     "schema_version": 1,
     "solution": false
    }
   },
   "source": [
    "## 3. Autograded programming task\n",
    "\n",
    "Write a method which calculates the product of two integers."
   ]
  },
  {
   "cell_type": "code",
   "execution_count": 2,
   "metadata": {
    "nbgrader": {
     "grade": false,
     "grade_id": "cell-b65aa29f897ebc4d",
     "locked": false,
     "schema_version": 1,
     "solution": true
    }
   },
   "outputs": [],
   "source": [
    "int product(int a, int b)\n",
    "{\n",
    "    // BEGIN SOLUTION\n",
    "    return a * b;\n",
    "    // END SOLUTION\n",
    "    \n",
    "    // This would be an example for an incorrect student answer failing at the public test.\n",
    "    // return 2;\n",
    "    \n",
    "    // This would be an example for an incorrect student answer, passing the public test.\n",
    "    //return ( (a + 1) * (b - 1) );\n",
    "}"
   ]
  },
  {
   "cell_type": "code",
   "execution_count": 3,
   "metadata": {
    "nbgrader": {
     "grade": false,
     "grade_id": "cell-7b816675f1cd6f37",
     "locked": true,
     "schema_version": 1,
     "solution": false
    }
   },
   "outputs": [],
   "source": [
    "// This function is used in the next cell to test assertions\n",
    "void assertTrue(bool assertion) {\n",
    "    if(!assertion){\n",
    "        throw std::runtime_error(\"Test failed\");\n",
    "    }\n",
    "}"
   ]
  },
  {
   "cell_type": "code",
   "execution_count": 4,
   "metadata": {
    "nbgrader": {
     "grade": true,
     "grade_id": "cell-3318ea41805fb90a",
     "locked": true,
     "points": 4,
     "schema_version": 1,
     "solution": false
    }
   },
   "outputs": [],
   "source": [
    "// Execute these tests to check your solution.\n",
    "assertTrue(product(1,2) == 2);\n",
    "assertTrue(product(5,6) == 30);"
   ]
  },
  {
   "cell_type": "code",
   "execution_count": 5,
   "metadata": {
    "nbgrader": {
     "grade": true,
     "grade_id": "cell-41099f4980cf7022",
     "locked": true,
     "points": 0,
     "schema_version": 1,
     "solution": false
    }
   },
   "outputs": [],
   "source": [
    "// BEGIN HIDDEN TESTS\n",
    "// This function is used in the next cell to test assertions\n",
    "bool assertTrue(bool assertion, std::string comment)\n",
    "{\n",
    "    std::cout << (assertion ? \"Passed: \" + comment : \"Failed: \" + comment ) << '\\n';\n",
    "    return assertion;\n",
    "}\n",
    "// END HIDDEN TESTS"
   ]
  },
  {
   "cell_type": "code",
   "execution_count": 6,
   "metadata": {
    "nbgrader": {
     "grade": true,
     "grade_id": "cell-d27f94236d836581",
     "locked": true,
     "points": 8,
     "schema_version": 1,
     "solution": false
    }
   },
   "outputs": [
    {
     "name": "stdout",
     "output_type": "stream",
     "text": [
      "Passed: Hidden test 1\n",
      "Failed: Hidden test 2 (square)\n",
      "Passed: Hidden test 3\n"
     ]
    },
    {
     "ename": "Standard Exception",
     "evalue": "Hidden test failed",
     "output_type": "error",
     "traceback": [
      "Standard Exception: Hidden test failed"
     ]
    }
   ],
   "source": [
    "// BEGIN HIDDEN TESTS\n",
    "bool allTrue = true;\n",
    "\n",
    "// Hidden tests of lecturers\n",
    "// This part will be removed for the students.\n",
    "// For every assertion, it is printed, if the related test passes or fails.\n",
    "// Additionally, if one of the tests fails, an exception is thrown for autograding.\n",
    "allTrue = allTrue & assertTrue( product(2,3) == 6, \"Hidden test 1\");\n",
    "allTrue = allTrue & assertTrue( product(3,3) == 9, \"Hidden test 2 (square)\");\n",
    "allTrue = allTrue & assertTrue( product(4,5) == 20, \"Hidden test 3\");\n",
    "\n",
    "if(!allTrue){throw std::runtime_error(\"Hidden test failed\");}\n",
    "// END HIDDEN TESTS"
   ]
  }
 ],
 "metadata": {
  "celltoolbar": "Create Assignment",
  "kernelspec": {
   "display_name": "C++17",
   "language": "C++17",
   "name": "xeus-cling-cpp17"
  },
  "language_info": {
   "codemirror_mode": "text/x-c++src",
   "file_extension": ".cpp",
   "mimetype": "text/x-c++src",
   "name": "c++",
   "version": "-std=c++17"
  }
 },
 "nbformat": 4,
 "nbformat_minor": 2
}

