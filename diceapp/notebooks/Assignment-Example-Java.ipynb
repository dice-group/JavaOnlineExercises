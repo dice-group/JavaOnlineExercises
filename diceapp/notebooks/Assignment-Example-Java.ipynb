{
 "cells": [
  {
   "cell_type": "markdown",
   "metadata": {
    "nbgrader": {
     "grade": false,
     "grade_id": "cell-cb6d6ed35c9bab09",
     "locked": true,
     "schema_version": 1,
     "solution": false
    }
   },
   "source": [
    "# Example assignment for Java and nbgrader\n",
    "\n",
    "You can use Markdown to provide information to the students.\n",
    "\n",
    "* Jupyter notebook command help: [Ctrl] + [Shift] + [p]\n",
    "* [Nbgrader documentation](https://nbgrader.readthedocs.io/)\n",
    "* [Java kernel documentation](https://github.com/SpencerPark/IJava)\n",
    "* [Java kernel examples](https://github.com/SpencerPark/ijava-binder)\n",
    "* [DICE nbgraderutils](https://github.com/dice-group/nbgraderutils)\n",
    "\n",
    "### Cell types in nbgrader\n",
    "\n",
    "Lecturers have to define the type of a cell, e.g. Markdown or Code. You can choose this at the top menue.\n",
    "\n",
    "Additionally, you can set the points for an answer and create manually or autograded answers. To do so, click on \"View\" -> \"Cell Toolbar\" -> \"Create Assignment\".\n",
    "\n",
    "Have a look at the examples below."
   ]
  },
  {
   "cell_type": "markdown",
   "metadata": {
    "nbgrader": {
     "grade": false,
     "grade_id": "cell-1ee375c12d3d41ae",
     "locked": true,
     "schema_version": 1,
     "solution": false
    }
   },
   "source": [
    "## 1. Manually graded text task\n",
    "Who is the best lecturer in the world?"
   ]
  },
  {
   "cell_type": "markdown",
   "metadata": {
    "nbgrader": {
     "grade": true,
     "grade_id": "cell-ef07e58f8575b7d2",
     "locked": false,
     "points": 1,
     "schema_version": 1,
     "solution": true
    }
   },
   "source": []
  },
  {
   "cell_type": "markdown",
   "metadata": {
    "nbgrader": {
     "grade": false,
     "grade_id": "cell-366abf49e7ecb17e",
     "locked": true,
     "schema_version": 1,
     "solution": false
    }
   },
   "source": [
    "## 2. Manually graded programming task\n",
    "\n",
    "Write a method call which prints a greetings string."
   ]
  },
  {
   "cell_type": "code",
   "execution_count": null,
   "metadata": {
    "nbgrader": {
     "grade": true,
     "grade_id": "cell-8bd565595479558a",
     "locked": false,
     "points": 2,
     "schema_version": 1,
     "solution": true
    }
   },
   "outputs": [],
   "source": []
  },
  {
   "cell_type": "markdown",
   "metadata": {
    "nbgrader": {
     "grade": false,
     "grade_id": "cell-5680dc683686b00e",
     "locked": true,
     "schema_version": 1,
     "solution": false
    }
   },
   "source": [
    "## 3. Autograded programming task\n",
    "\n",
    "Write a method which calculates the product of two integers."
   ]
  },
  {
   "cell_type": "code",
   "execution_count": 1,
   "metadata": {
    "nbgrader": {
     "grade": false,
     "grade_id": "cell-b65aa29f897ebc4d",
     "locked": false,
     "schema_version": 1,
     "solution": true
    }
   },
   "outputs": [],
   "source": [
    "public int product(int a, int b) {\n",
    "    // BEGIN SOLUTION\n",
    "    // The correct solution of a lecturer.\n",
    "    // This part will be removed for the students.\n",
    "    // You can use this solution to create tests in the next cell.\n",
    "    return a * b;\n",
    "    // END SOLUTION\n",
    "    \n",
    "    // This would be an example for an incorrect student answer failing at the public test.\n",
    "    // return 2;\n",
    "    \n",
    "    // This would be an example for an incorrect student answer, passing the public test.\n",
    "    // return ( (a + 1) * (b - 1) );\n",
    "}"
   ]
  },
  {
   "cell_type": "code",
   "execution_count": 2,
   "metadata": {
    "nbgrader": {
     "grade": true,
     "grade_id": "cell-41099f4980cf7022",
     "locked": true,
     "points": 4,
     "schema_version": 1,
     "solution": false
    }
   },
   "outputs": [
    {
     "name": "stdout",
     "output_type": "stream",
     "text": [
      "Passed: Hidden test 1\n",
      "Passed: Hidden test 2 (square)\n",
      "Passed: Hidden test 3\n"
     ]
    }
   ],
   "source": [
    "public void assertTrue(boolean assertion){if(!assertion){throw new RuntimeException(\"Test failed\");}}\n",
    "\n",
    "// Execute these tests to check your solution.\n",
    "assertTrue(product(1,2) == 2);\n",
    "assertTrue(product(5,6) == 30);\n",
    "\n",
    "\n",
    "\n",
    "// BEGIN HIDDEN TESTS\n",
    "public boolean assertTrue(boolean assertion, String comment) {\n",
    "    System.out.println(assertion ? \"Passed: \" + comment : \"Failed: \" + comment);\n",
    "    return assertion;\n",
    "}\n",
    "boolean allTrue = true;\n",
    "\n",
    "// Hidden tests of lecturers\n",
    "// This part will be removed for the students.\n",
    "// For every assertion, it is printed, if the related test passes or fails.\n",
    "// Additionally, if one of the tests fails, an exception is thrown for autograding.\n",
    "allTrue = allTrue & assertTrue( product(2,3) == 6, \"Hidden test 1\");\n",
    "allTrue = allTrue & assertTrue( product(3,3) == 9, \"Hidden test 2 (square)\");\n",
    "allTrue = allTrue & assertTrue( product(4,5) == 20, \"Hidden test 3\");\n",
    "\n",
    "if(!allTrue){throw new RuntimeException(\"Hidden test failed\");}\n",
    "// END HIDDEN TESTS"
   ]
  },
  {
   "cell_type": "markdown",
   "metadata": {
    "nbgrader": {
     "grade": false,
     "grade_id": "cell-38295889b5de0e8d",
     "locked": true,
     "schema_version": 1,
     "solution": false
    }
   },
   "source": [
    "## 4. Autograded programming task with library\n",
    "\n",
    "* Task 1: Complete the methods levenshtein() and jaccard() to compute the respective distances.\n",
    "* Task 2: Compute the levenshtein distance and the jaccard distance for the words A and B.\n",
    "* Hint: [Documentation of the package Apache Commons Text](https://commons.apache.org/proper/commons-text/)"
   ]
  },
  {
   "cell_type": "code",
   "execution_count": 3,
   "metadata": {
    "nbgrader": {
     "grade": false,
     "grade_id": "cell-b52c66bf872b93b2",
     "locked": true,
     "schema_version": 1,
     "solution": false
    }
   },
   "outputs": [],
   "source": [
    "%%loadFromPOM\n",
    "<dependency>\n",
    "   <groupId>org.apache.commons</groupId>\n",
    "   <artifactId>commons-text</artifactId>\n",
    "   <version>1.4</version>\n",
    "</dependency>"
   ]
  },
  {
   "cell_type": "code",
   "execution_count": 4,
   "metadata": {
    "nbgrader": {
     "grade": false,
     "grade_id": "cell-521b36903278b8db",
     "locked": true,
     "schema_version": 1,
     "solution": false
    }
   },
   "outputs": [],
   "source": [
    "// Import the needed packacke members\n",
    "import org.apache.commons.text.similarity.*;\n",
    "\n",
    "// The words to compare\n",
    "String wordA = \"house\";\n",
    "String wordB = \"mouse\";\n",
    "\n",
    "// Variables to be set\n",
    "int levenshteinDistance = 0;\n",
    "double jaccardDistance = 0;"
   ]
  },
  {
   "cell_type": "code",
   "execution_count": 5,
   "metadata": {
    "nbgrader": {
     "grade": false,
     "grade_id": "cell-2c5cfbdf011615ee",
     "locked": false,
     "schema_version": 1,
     "solution": true
    }
   },
   "outputs": [],
   "source": [
    "public int levenshtein(String wordA, String wordB) {\n",
    "    // BEGIN SOLUTION\n",
    "    return LevenshteinDistance.getDefaultInstance().apply(wordA, wordB);\n",
    "    // END SOLUTION\n",
    "}\n",
    "\n",
    "public double jaccard(String wordA, String wordB) {\n",
    "    // BEGIN SOLUTION\n",
    "    return new JaccardDistance().apply(wordA, wordB);\n",
    "    // END SOLUTION\n",
    "}\n",
    "\n",
    "// BEGIN SOLUTION\n",
    "levenshteinDistance = levenshtein(wordA, wordB);\n",
    "jaccardDistance = jaccard(wordA, wordB);\n",
    "// END SOLUTION"
   ]
  },
  {
   "cell_type": "code",
   "execution_count": 6,
   "metadata": {
    "nbgrader": {
     "grade": true,
     "grade_id": "cell-92c583222889bae3",
     "locked": true,
     "points": 8,
     "schema_version": 1,
     "solution": false
    }
   },
   "outputs": [
    {
     "name": "stdout",
     "output_type": "stream",
     "text": [
      "Passed: levenshtein A B\n",
      "Passed: jaccard A B >\n",
      "Passed: jaccard A B <\n",
      "Passed: levenshtein method\n",
      "Passed: jaccard method >\n",
      "Passed: jaccard method <\n"
     ]
    }
   ],
   "source": [
    "// Execute these tests to check your solution.\n",
    "assertTrue(levenshtein(\"dog\", \"mouse\") == 4);\n",
    "assertTrue(jaccardDistance != 0);\n",
    "\n",
    "// BEGIN HIDDEN TESTS\n",
    "\n",
    "// Hidden tests of lecturers\n",
    "// This part will be removed for the students.\n",
    "// For every assertion, it is printed, if the related test passes or fails.\n",
    "// Additionally, if one of the tests fails, an exception is thrown for autograding.\n",
    "boolean allTrue = true;\n",
    "allTrue = allTrue & assertTrue( levenshteinDistance == 1, \"levenshtein A B\" );\n",
    "allTrue = allTrue & assertTrue( jaccardDistance > 0.31, \"jaccard A B >\" );;\n",
    "allTrue = allTrue & assertTrue( jaccardDistance < 0.35, \"jaccard A B <\" );\n",
    "allTrue = allTrue & assertTrue( levenshtein(\"computer\",\"cpu\") == 5, \"levenshtein method\" );\n",
    "allTrue = allTrue & assertTrue( jaccard(\"computer\",\"cpu\") > 0.60, \"jaccard method >\" );\n",
    "allTrue = allTrue & assertTrue( jaccard(\"computer\",\"cpu\") < 0.64, \"jaccard method <\" );\n",
    "\n",
    "if(!allTrue){throw new RuntimeException(\"Hidden test failed\");}\n",
    "// END HIDDEN TESTS"
   ]
  }
 ],
 "metadata": {
  "celltoolbar": "Create Assignment",
  "kernelspec": {
   "display_name": "Java",
   "language": "java",
   "name": "java"
  },
  "language_info": {
   "codemirror_mode": "java",
   "file_extension": ".java",
   "mimetype": "text/x-java-source",
   "name": "Java",
   "pygments_lexer": "java",
   "version": "10.0.2+13"
  }
 },
 "nbformat": 4,
 "nbformat_minor": 2
}

