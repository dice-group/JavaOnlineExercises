{
 "cells": [
  {
   "cell_type": "markdown",
   "metadata": {
    "nbgrader": {
     "grade": false,
     "grade_id": "cell-cb6d6ed35c9bab09",
     "locked": true,
     "schema_version": 1,
     "solution": false
    }
   },
   "source": [
    "# Advanced example for Java and nbgrader\n",
    "\n",
    "* Task 1: Complete the methods levenshtein() and jaccard() to compute the respective distances.\n",
    "* Task 2: Compute the levenshtein distance and the jaccard distance for the words A and B.\n",
    "* Hint: [Documentation of the package Apache Commons Text](https://commons.apache.org/proper/commons-text/)"
   ]
  },
  {
   "cell_type": "code",
   "execution_count": 62,
   "metadata": {
    "nbgrader": {
     "grade": false,
     "grade_id": "cell-9a39913dd9022e62",
     "locked": true,
     "schema_version": 1,
     "solution": false
    }
   },
   "outputs": [],
   "source": [
    "%%loadFromPOM\n",
    "<dependency>\n",
    "   <groupId>org.apache.commons</groupId>\n",
    "   <artifactId>commons-text</artifactId>\n",
    "   <version>1.4</version>\n",
    "</dependency>"
   ]
  },
  {
   "cell_type": "code",
   "execution_count": 63,
   "metadata": {
    "nbgrader": {
     "grade": false,
     "grade_id": "cell-df58346e5dc8f812",
     "locked": true,
     "schema_version": 1,
     "solution": false
    }
   },
   "outputs": [],
   "source": [
    "// Import the needed packacke members\n",
    "import org.apache.commons.text.similarity.*;\n",
    "\n",
    "// The words to compare\n",
    "String wordA = \"house\";\n",
    "String wordB = \"mouse\";\n",
    "\n",
    "// Variables to be set\n",
    "int levenshteinDistance = 0;\n",
    "double jaccardDistance = 0;"
   ]
  },
  {
   "cell_type": "code",
   "execution_count": 64,
   "metadata": {
    "nbgrader": {
     "grade": false,
     "grade_id": "cell-3b2ccd042ea41283",
     "locked": false,
     "schema_version": 1,
     "solution": true
    }
   },
   "outputs": [],
   "source": [
    "public int levenshtein(String wordA, String wordB) {\n",
    "    // BEGIN SOLUTION\n",
    "    return LevenshteinDistance.getDefaultInstance().apply(wordA, wordB);\n",
    "    // END SOLUTION\n",
    "}\n",
    "\n",
    "public double jaccard(String wordA, String wordB) {\n",
    "    // BEGIN SOLUTION\n",
    "    return new JaccardDistance().apply(wordA, wordB);\n",
    "    // END SOLUTION\n",
    "}\n",
    "\n",
    "// BEGIN SOLUTION\n",
    "levenshteinDistance = levenshtein(wordA, wordB);\n",
    "jaccardDistance = jaccard(wordA, wordB);\n",
    "// END SOLUTION"
   ]
  },
  {
   "cell_type": "code",
   "execution_count": 71,
   "metadata": {
    "nbgrader": {
     "grade": true,
     "grade_id": "cell-55bfad1814baadea",
     "locked": true,
     "points": 4,
     "schema_version": 1,
     "solution": false
    }
   },
   "outputs": [
    {
     "name": "stdout",
     "output_type": "stream",
     "text": [
      "Passed: levenshtein A B\n",
      "Passed: jaccard A B >\n",
      "Passed: jaccard A B <\n",
      "Passed: levenshtein method\n",
      "Passed: jaccard method >\n",
      "Passed: jaccard method <\n"
     ]
    }
   ],
   "source": [
    "public void assertTrue(boolean assertion){if(!assertion){throw new RuntimeException(\"Test failed\");}}\n",
    "\n",
    "// Execute these tests to check your solution.\n",
    "assertTrue(levenshtein(\"dog\", \"mouse\") == 4);\n",
    "assertTrue(jaccardDistance != 0);\n",
    "\n",
    "\n",
    "\n",
    "// BEGIN HIDDEN TESTS\n",
    "public boolean assertTrue(boolean assertion, String comment) {\n",
    "    System.out.println(assertion ? \"Passed: \" + comment : \"Failed: \" + comment);\n",
    "    return assertion;\n",
    "}\n",
    "boolean allTrue = true;\n",
    "\n",
    "// Hidden tests of lecturers\n",
    "// This part will be removed for the students.\n",
    "// For every assertion, it is printed, if the related test passes or fails.\n",
    "// Additionally, if one of the tests fails, an exception is thrown for autograding.\n",
    "allTrue = allTrue & assertTrue( levenshteinDistance == 1, \"levenshtein A B\" );\n",
    "allTrue = allTrue & assertTrue( jaccardDistance > 0.31, \"jaccard A B >\" );;\n",
    "allTrue = allTrue & assertTrue( jaccardDistance < 0.35, \"jaccard A B <\" );\n",
    "allTrue = allTrue & assertTrue( levenshtein(\"computer\",\"cpu\") == 5, \"levenshtein method\" );\n",
    "allTrue = allTrue & assertTrue( jaccard(\"computer\",\"cpu\") > 0.60, \"jaccard method >\" );\n",
    "allTrue = allTrue & assertTrue( jaccard(\"computer\",\"cpu\") < 0.64, \"jaccard method <\" );\n",
    "\n",
    "if(!allTrue){throw new RuntimeException(\"Hidden test failed\");}\n",
    "// END HIDDEN TESTS"
   ]
  }
 ],
 "metadata": {
  "celltoolbar": "Create Assignment",
  "kernelspec": {
   "display_name": "Java",
   "language": "java",
   "name": "java"
  },
  "language_info": {
   "codemirror_mode": "java",
   "file_extension": ".java",
   "mimetype": "text/x-java-source",
   "name": "Java",
   "pygments_lexer": "java",
   "version": "10.0.2+13"
  }
 },
 "nbformat": 4,
 "nbformat_minor": 2
}

