{
 "cells": [
  {
   "cell_type": "markdown",
   "metadata": {},
   "source": [
    "# Read local files\n",
    "\n",
    "- Create local file: `wget -P /srv/share/ http://norvig.com/ngrams/shakespeare.txt`\n",
    "    - String.length() = file size = 4,538,523 Bytes = 4.5 MB = 4.3 MiB\n",
    "- Java 8 example code: http://www.adam-bien.com/roller/abien/entry/java_8_reading_a_file\n",
    "- Java 7+8 example code: https://stackoverflow.com/a/326440"
   ]
  },
  {
   "cell_type": "code",
   "execution_count": 1,
   "metadata": {},
   "outputs": [
    {
     "name": "stdout",
     "output_type": "stream",
     "text": [
      "4538523\n"
     ]
    },
    {
     "data": {
      "text/html": [
       "<hr />"
      ],
      "text/plain": [
       "<hr />"
      ]
     },
     "metadata": {},
     "output_type": "display_data"
    },
    {
     "name": "stdout",
     "output_type": "stream",
     "text": [
      "A MIDSUMMER-NIGHT'S DREAM\n",
      "\n",
      "Now , fair Hippolyta , our nuptial hour \n",
      "Draws on apace : four happy days\n"
     ]
    },
    {
     "data": {
      "text/html": [
       "<hr />"
      ],
      "text/plain": [
       "<hr />"
      ]
     },
     "metadata": {},
     "output_type": "display_data"
    },
    {
     "name": "stdout",
     "output_type": "stream",
     "text": [
      " beginning :\n",
      "Then , afterwards , to order well the state ,\n",
      "That like events may ne'er it ruinate .\n",
      "\n",
      "\n"
     ]
    }
   ],
   "source": [
    "import java.nio.file.Files;\n",
    "import java.nio.file.Paths;\n",
    "\n",
    "String path = \"/srv/share/shakespeare.txt\";\n",
    "String content = new String(Files.readAllBytes(Paths.get(path)));\n",
    "\n",
    "// 4538523\n",
    "System.out.println(content.length());\n",
    "display(\"<hr />\", \"text/html\");\n",
    "\n",
    "// A MIDSUMMER-NIGHT'S DREAM [...]\n",
    "System.out.println(content.substring(0, 100));\n",
    "display(\"<hr />\", \"text/html\");\n",
    "\n",
    "// [...] That like events may ne'er it ruinate .\n",
    "System.out.println(content.substring(content.length() - 100));"
   ]
  },
  {
   "cell_type": "markdown",
   "metadata": {},
   "source": [
    "`System.out.println(content);`\n",
    "\n",
    "produces the following message:\n",
    "\n",
    "```\n",
    "IOPub data rate exceeded.\n",
    "The notebook server will temporarily stop sending output\n",
    "to the client in order to avoid crashing it.\n",
    "To change this limit, set the config variable\n",
    "`--NotebookApp.iopub_data_rate_limit`.\n",
    "\n",
    "Current values:\n",
    "NotebookApp.iopub_data_rate_limit=1000000.0 (bytes/sec)\n",
    "NotebookApp.rate_limit_window=3.0 (secs)\n",
    "```"
   ]
  }
 ],
 "metadata": {
  "kernelspec": {
   "display_name": "Java",
   "language": "java",
   "name": "java"
  },
  "language_info": {
   "codemirror_mode": "java",
   "file_extension": ".java",
   "mimetype": "text/x-java-source",
   "name": "Java",
   "pygments_lexer": "java",
   "version": "10.0.2+13"
  }
 },
 "nbformat": 4,
 "nbformat_minor": 2
}

