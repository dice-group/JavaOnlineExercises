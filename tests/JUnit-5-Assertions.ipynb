{
 "cells": [
  {
   "cell_type": "markdown",
   "metadata": {},
   "source": [
    "# JUnit 5 Assertions\n",
    "\n",
    "- Magics in iJava kernel:  \n",
    "  https://github.com/SpencerPark/IJava/blob/master/docs/magics.md\n",
    "- Maven repository JUnit Jupiter API:  \n",
    "  https://mvnrepository.com/artifact/org.junit.jupiter/junit-jupiter-api\n",
    "- Javadoc JUnit Assertions:  \n",
    "  https://junit.org/junit5/docs/current/api/org/junit/jupiter/api/Assertions.html\n",
    "- Javadoc AssertionFailedError:  \n",
    "  https://ota4j-team.github.io/opentest4j/docs/1.1.1/api/org/opentest4j/AssertionFailedError.html\n",
    "- nbgraderutils:  \n",
    "  https://github.com/dice-group/nbgraderutils"
   ]
  },
  {
   "cell_type": "markdown",
   "metadata": {},
   "source": [
    "# Import variant 1"
   ]
  },
  {
   "cell_type": "code",
   "execution_count": 1,
   "metadata": {},
   "outputs": [],
   "source": [
    "%maven org.junit.jupiter:junit-jupiter-api:5.3.1\n",
    "import org.junit.jupiter.api.Assertions;\n",
    "import org.opentest4j.AssertionFailedError;"
   ]
  },
  {
   "cell_type": "markdown",
   "metadata": {},
   "source": [
    "# Import variant 2"
   ]
  },
  {
   "cell_type": "code",
   "execution_count": null,
   "metadata": {},
   "outputs": [],
   "source": [
    "%%loadFromPOM\n",
    "<dependency>\n",
    "   <groupId>org.junit.jupiter</groupId>\n",
    "   <artifactId>junit-jupiter-api</artifactId>\n",
    "   <version>5.3.1</version>\n",
    "</dependency>"
   ]
  },
  {
   "cell_type": "code",
   "execution_count": null,
   "metadata": {},
   "outputs": [],
   "source": [
    "import org.junit.jupiter.api.Assertions;\n",
    "import org.opentest4j.AssertionFailedError;"
   ]
  },
  {
   "cell_type": "markdown",
   "metadata": {},
   "source": [
    "# Test execution"
   ]
  },
  {
   "cell_type": "code",
   "execution_count": 2,
   "metadata": {},
   "outputs": [
    {
     "name": "stdout",
     "output_type": "stream",
     "text": [
      "org.opentest4j.AssertionFailedError: expected: <1> but was: <2>\n",
      "expected: <1> but was: <2>\n",
      "1 (java.lang.Integer@3649e520)\n",
      "2 (java.lang.Integer@ae512eb)\n"
     ]
    }
   ],
   "source": [
    "Assertions.assertEquals(1,1);\n",
    "\n",
    "try {\n",
    "    Assertions.assertEquals(1,2);\n",
    "} catch(AssertionFailedError error) {\n",
    "    System.out.println(error);\n",
    "    System.out.println(error.getMessage());\n",
    "    System.out.println(error.getExpected());\n",
    "    System.out.println(error.getActual());\n",
    "};"
   ]
  }
 ],
 "metadata": {
  "kernelspec": {
   "display_name": "Java",
   "language": "java",
   "name": "java"
  },
  "language_info": {
   "codemirror_mode": "java",
   "file_extension": ".java",
   "mimetype": "text/x-java-source",
   "name": "Java",
   "pygments_lexer": "java",
   "version": "10.0.2+13"
  }
 },
 "nbformat": 4,
 "nbformat_minor": 2
}
