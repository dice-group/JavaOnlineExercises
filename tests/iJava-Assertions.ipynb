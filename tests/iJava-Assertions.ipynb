{
 "cells": [
  {
   "cell_type": "markdown",
   "metadata": {},
   "source": [
    "# Configuration\n",
    "\n",
    "Add the `-ea` argument to `argv`.  \n",
    "Source: https://github.com/SpencerPark/IJava#changing-vmcompiler-options\n",
    "\n",
    "## Example\n",
    "\n",
    "```\n",
    "nano /opt/conda/share/jupyter/kernels/java/kernel.json\n",
    "```\n",
    "\n",
    "```\n",
    "{\n",
    "    \"argv\": [\n",
    "        \"java\",\n",
    "        \"-ea\",\n",
    "        \"-jar\",\n",
    "        \"/opt/conda/share/jupyter/kernels/java/ijava-1.1.1.jar\",\n",
    "        \"{connection_file}\"\n",
    "    ],\n",
    "    \"display_name\": \"Java\",\n",
    "    \"env\": {\n",
    "        \"IJAVA_CLASSPATH\": \"\",\n",
    "        \"IJAVA_COMPILER_OPTS\": \"\",\n",
    "        \"IJAVA_STARTUP_SCRIPT\": \"\",\n",
    "        \"IJAVA_STARTUP_SCRIPTS_PATH\": \"\",\n",
    "        \"IJAVA_TIMEOUT\": \"-1\"\n",
    "    },\n",
    "    \"interrupt_mode\": \"message\",\n",
    "    \"language\": \"java\"\n",
    "}\n",
    "```"
   ]
  },
  {
   "cell_type": "code",
   "execution_count": 23,
   "metadata": {},
   "outputs": [],
   "source": [
    "// Force assertions to be enabled\n",
    "\n",
    "// https://docs.oracle.com/javase/7/docs/technotes/guides/language/assert.html\n",
    "boolean assertsEnabled = false;\n",
    "assert assertsEnabled = true;\n",
    "if (!assertsEnabled) {\n",
    "    throw new RuntimeException(\"Error: Asserts must be enabled!\");\n",
    "}"
   ]
  },
  {
   "cell_type": "code",
   "execution_count": 24,
   "metadata": {},
   "outputs": [
    {
     "name": "stdout",
     "output_type": "stream",
     "text": [
      "java.lang.AssertionError\n",
      "java.lang.AssertionError: FaLsE\n",
      "FaLsE\n"
     ]
    }
   ],
   "source": [
    "// Test assertion effects\n",
    "\n",
    "// Should have no effect\n",
    "assert true;\n",
    "\n",
    "// Should throw assertion error\n",
    "try {\n",
    "    assert false;\n",
    "} catch (AssertionError error) {\n",
    "    System.out.println(error);\n",
    "}\n",
    "\n",
    "// Should throw assertion error containing a message\n",
    "try {\n",
    "    assert false : \"FaLsE\";\n",
    "} catch (AssertionError error) {\n",
    "    System.out.println(error);\n",
    "    System.out.println(error.getMessage());\n",
    "}"
   ]
  }
 ],
 "metadata": {
  "kernelspec": {
   "display_name": "Java",
   "language": "java",
   "name": "java"
  },
  "language_info": {
   "codemirror_mode": "java",
   "file_extension": ".java",
   "mimetype": "text/x-java-source",
   "name": "Java",
   "pygments_lexer": "java",
   "version": "10.0.2+13"
  }
 },
 "nbformat": 4,
 "nbformat_minor": 2
}
