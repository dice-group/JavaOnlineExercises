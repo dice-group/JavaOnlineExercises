{
 "cells": [
  {
   "cell_type": "markdown",
   "metadata": {},
   "source": [
    "# Assignment administration\n",
    "\n",
    "- Run the following cell.\n",
    "- Follow the instructions below."
   ]
  },
  {
   "cell_type": "code",
   "execution_count": null,
   "metadata": {},
   "outputs": [],
   "source": [
    "%maven commons-io:commons-io:2.6\n",
    "import org.apache.commons.io.FileUtils;\n",
    "import org.apache.commons.io.filefilter.TrueFileFilter;\n",
    "\n",
    "void createAssignment(String assignmentName, int numberOfExercises) throws Exception {\n",
    "    if(assignmentName == null || assignmentName.isEmpty()){\n",
    "        throw new Exception(\"No assignment name\");\n",
    "    }\n",
    "    \n",
    "    File templateDirectory = new File(\"/home/nbgadmin/templates/\");\n",
    "    File sourceDirectory = new File(\"/home/nbgadmin/source/\");\n",
    "    File assignmentDirectory = new File(sourceDirectory, assignmentName);\n",
    "    if (!templateDirectory.exists() || !templateDirectory.canRead()) {\n",
    "        throw new Exception(\"Can not read: \" + templateDirectory.getPath());\n",
    "    }\n",
    "    if (!sourceDirectory.exists()) {\n",
    "        throw new Exception(\"Does not exist: \" + sourceDirectory.getPath());\n",
    "    }\n",
    "    if (!sourceDirectory.canWrite()) {\n",
    "        throw new Exception(\"Can not write: \" + sourceDirectory.getPath());\n",
    "    }\n",
    "    if (assignmentDirectory.exists()) {\n",
    "        throw new Exception(\"Already existing: \" + assignmentDirectory.getPath());\n",
    "    }\n",
    "    \n",
    "    for (File file : templateDirectory.listFiles(new FilenameFilter() {\n",
    "        public boolean accept(File directory, String name) {\n",
    "            if (name.endsWith(\".ipynb\")) {\n",
    "                return true;\n",
    "            } else {\n",
    "                return false;\n",
    "            }\n",
    "        }\n",
    "    })) {\n",
    "        if (file.getName().equals(\"AssignmentTemplate.ipynb\")) {\n",
    "            for (int i = 1; i <= numberOfExercises; i++) {\n",
    "                File newFile = new File(assignmentDirectory, \"Exercise-\" + i + \".ipynb\");\n",
    "                FileUtils.copyFile(file, newFile);\n",
    "                System.out.println(\"Created file: \" + newFile.getPath());\n",
    "            }\n",
    "        }\n",
    "        File newFile = new File(assignmentDirectory, file.getName());\n",
    "        FileUtils.copyFile(file, newFile);\n",
    "        System.out.println(\"Created file: \" + newFile.getPath());\n",
    "    }\n",
    "}\n",
    "\n",
    "void copyFeedback(String assignmentName) throws Exception {\n",
    "    if(assignmentName == null || assignmentName.isEmpty()){\n",
    "        throw new Exception(\"No assignment name\");\n",
    "    }\n",
    "    \n",
    "    File feedbackBaseDirectory = new File(\"/home/nbgadmin/feedback/\");\n",
    "    if (!feedbackBaseDirectory.exists() || !feedbackBaseDirectory.canRead()) {\n",
    "        throw new Exception(\"Can not read: \" + feedbackBaseDirectory.getPath());\n",
    "    }\n",
    "    \n",
    "    int copies = 0;\n",
    "    int directories = 0;\n",
    "    for (File feedbackUserDirectory : feedbackBaseDirectory.listFiles()) {\n",
    "        // Should only contain directories, just skip\n",
    "        if(!feedbackUserDirectory.isDirectory()) {\n",
    "            continue;\n",
    "        }\n",
    "        File feedbackAssignmentDirectory = new File(feedbackUserDirectory, assignmentName);\n",
    "        // User has not participated, just skip\n",
    "        if (!feedbackAssignmentDirectory.exists()) {\n",
    "            continue;\n",
    "        }\n",
    "        \n",
    "        directories++;\n",
    "        \n",
    "        if (!feedbackAssignmentDirectory.canRead()) {\n",
    "            System.err.println(\"Can not read feedback for user, skipping: \" + feedbackAssignmentDirectory.getPath());\n",
    "            continue;\n",
    "        }\n",
    "        File userHomeDirectory = new File(\"/home/\" + feedbackUserDirectory.getName());\n",
    "        if (!userHomeDirectory.exists()) {\n",
    "            System.err.println(\"User home not found, skipping: \" + userHomeDirectory.getPath());\n",
    "            continue;\n",
    "        }\n",
    "        if (!userHomeDirectory.canWrite()) {\n",
    "            System.err.println(\"Can not write user home, skipping: \" + userHomeDirectory.getPath());\n",
    "            continue;\n",
    "        }\n",
    "        File resultsDirectory = new File(userHomeDirectory, \"results\");\n",
    "        if (resultsDirectory.exists() && !resultsDirectory.canWrite()) {\n",
    "            System.err.println(\"Can not write results: \" + resultsDirectory.getPath());\n",
    "            continue;\n",
    "        }\n",
    "        File assignmentResultsDirectory = new File(resultsDirectory, assignmentName);\n",
    "\n",
    "\t\ttry {\n",
    "\t\t\tFileUtils.copyDirectory(feedbackAssignmentDirectory, assignmentResultsDirectory);\n",
    "\t\t} catch (IOException e) {\n",
    "            System.err.println(\"Error copying: \" + e.getMessage());\n",
    "            continue;\n",
    "\t\t}\n",
    "        System.out.println(\"Provided feedback: \" + assignmentResultsDirectory);\n",
    "        copies++;\n",
    "    }\n",
    "    System.out.println(directories + \" feedback entries found.\");\n",
    "    System.out.println(copies + \" feedback entries copied.\");\n",
    "}"
   ]
  },
  {
   "cell_type": "markdown",
   "metadata": {},
   "source": [
    "## Create an assignment\n",
    "\n",
    "1. Specify an **assignment name** and the **number of exercise files** to create in the following cell.\n",
    "2. Run the following cell.\n",
    "3. Open the [source directory in the files view](https://localhost/user/nbgadmin/tree/source).  \n",
    "   Edit the files. Delete unused files.  \n",
    "   Remove **unused autograder test cells** or set the points to 0."
   ]
  },
  {
   "cell_type": "code",
   "execution_count": null,
   "metadata": {
    "scrolled": true
   },
   "outputs": [],
   "source": [
    "createAssignment(\"Example\", 3);"
   ]
  },
  {
   "cell_type": "markdown",
   "metadata": {},
   "source": [
    "## Release the assignment\n",
    "\n",
    "Open [Formgrader](https://localhost/user/nbgadmin/formgrader).\n",
    "\n",
    "1. Click on [**Generate**].  \n",
    "   (Generated files will be stored in the _release_ directory.)\n",
    "2. Click on [**Preview**].  \n",
    "   Check the generated files.  \n",
    "   If there are errors, edit the files and continue with step 1.\n",
    "3. Click on [**Release**].  \n",
    "   If you want to check the release, do NOT use the nbgadmin account to fetch the assignment. You could logout and login as nbguser to prevent the creation of many files for the nbgadmin account.\n",
    "4. You may want to make a backup of the _source/[assignmentName]_ directory to save your solution.\n",
    "5. Inform your students."
   ]
  },
  {
   "cell_type": "markdown",
   "metadata": {},
   "source": [
    "## Finish the assignment\n",
    "\n",
    "Open [Formgrader](https://localhost/user/nbgadmin/formgrader).\n",
    "\n",
    "1. Click on [**Collect**].  \n",
    "   (Collected files will be stored in the _submitted_ directory.)\n",
    "2. Click on [**Release**] to to end the release.\n",
    "3. You may want to make a backup of the _submitted_ directory."
   ]
  },
  {
   "cell_type": "markdown",
   "metadata": {},
   "source": [
    "## Rate the assignment\n",
    "\n",
    "1. Open a [terminal](https://localhost/user/nbgadmin/terminals/1) and\n",
    "   **autograde** the assignment using the commands:  \n",
    "   `cd \"/home/nbgadmin\"`  \n",
    "   `nbgrader autograde \"[assignmentName]\"`\n",
    "2. Open [Formgrader](https://localhost/user/nbgadmin/formgrader).\n",
    "3. Click on **[Manual Grading]** and rate the answers."
   ]
  },
  {
   "cell_type": "markdown",
   "metadata": {},
   "source": [
    "## Provide feedback\n",
    "\n",
    "1. Open a [terminal](https://localhost/user/nbgadmin/terminals/1) and\n",
    "   **autograde** the assignment using the commands:  \n",
    "   `cd \"/home/nbgadmin\"`  \n",
    "   `nbgrader feedback \"[assignmentName]\"`\n",
    "2. Specify the **assignment name** in the following cell.\n",
    "3. Run the following cell."
   ]
  },
  {
   "cell_type": "code",
   "execution_count": null,
   "metadata": {},
   "outputs": [],
   "source": [
    "copyFeedback(\"Example\");"
   ]
  }
 ],
 "metadata": {
  "kernelspec": {
   "display_name": "Java",
   "language": "java",
   "name": "java"
  },
  "language_info": {
   "codemirror_mode": "java",
   "file_extension": ".java",
   "mimetype": "text/x-java-source",
   "name": "Java",
   "pygments_lexer": "java",
   "version": "11.0.1+13-LTS"
  }
 },
 "nbformat": 4,
 "nbformat_minor": 2
}
