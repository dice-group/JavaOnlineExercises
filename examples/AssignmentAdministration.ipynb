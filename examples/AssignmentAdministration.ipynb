{
 "cells": [
  {
   "cell_type": "markdown",
   "metadata": {},
   "source": [
    "# Assignment administration\n",
    "\n",
    "- Run the following cell.\n",
    "- Follow the instructions below."
   ]
  },
  {
   "cell_type": "code",
   "execution_count": null,
   "metadata": {},
   "outputs": [],
   "source": [
    "%maven commons-io:commons-io:2.6\n",
    "import org.apache.commons.io.FileUtils;\n",
    "import org.apache.commons.io.filefilter.TrueFileFilter;\n",
    "\n",
    "void createAssignment(String assignmentName, int numberOfExercises) throws Exception {\n",
    "    if(assignmentName == null || assignmentName.isEmpty()){\n",
    "        throw new Exception(\"No assignment name\");\n",
    "    }\n",
    "    \n",
    "    File templateDirectory = new File(\"/home/nbgadmin/templates/\");\n",
    "    File sourceDirectory = new File(\"/home/nbgadmin/source/\");\n",
    "    File assignmentDirectory = new File(sourceDirectory, assignmentName);\n",
    "    if (!templateDirectory.exists() || !templateDirectory.canRead()) {\n",
    "        throw new Exception(\"Can not read: \" + templateDirectory.getPath());\n",
    "    }\n",
    "    if (!sourceDirectory.exists()) {\n",
    "        sourceDirectory.mkdirs();\n",
    "    }\n",
    "    if (!sourceDirectory.canWrite()) {\n",
    "        throw new Exception(\"Can not write: \" + sourceDirectory.getPath());\n",
    "    }\n",
    "    if (assignmentDirectory.exists()) {\n",
    "        throw new Exception(\"Already existing: \" + assignmentDirectory.getPath());\n",
    "    }\n",
    "    \n",
    "    for (File file : templateDirectory.listFiles(new FilenameFilter() {\n",
    "        public boolean accept(File directory, String name) {\n",
    "            if (name.endsWith(\".ipynb\")) {\n",
    "                return true;\n",
    "            } else {\n",
    "                return false;\n",
    "            }\n",
    "        }\n",
    "    })) {\n",
    "        if (file.getName().equals(\"AssignmentTemplate.ipynb\")) {\n",
    "            for (int i = 1; i <= numberOfExercises; i++) {\n",
    "                File newFile = new File(assignmentDirectory, \"Exercise-\" + i + \".ipynb\");\n",
    "                FileUtils.copyFile(file, newFile);\n",
    "                System.out.println(\"Created file: \" + newFile.getPath());\n",
    "            }\n",
    "        }\n",
    "        File newFile = new File(assignmentDirectory, file.getName());\n",
    "        FileUtils.copyFile(file, newFile);\n",
    "        System.out.println(\"Created file: \" + newFile.getPath());\n",
    "    }\n",
    "}\n",
    "\n",
    "void copyFeedback(String assignmentName) throws Exception {\n",
    "    if(assignmentName == null || assignmentName.isEmpty()){\n",
    "        throw new Exception(\"No assignment name\");\n",
    "    }\n",
    "    \n",
    "    File feedbackBaseDirectory = new File(\"/home/nbgadmin/feedback/\");\n",
    "    if (!feedbackBaseDirectory.exists() || !feedbackBaseDirectory.canRead()) {\n",
    "        throw new Exception(\"Can not read: \" + feedbackBaseDirectory.getPath());\n",
    "    }\n",
    "    \n",
    "    int copies = 0;\n",
    "    int directories = 0;\n",
    "    for (File feedbackUserDirectory : feedbackBaseDirectory.listFiles()) {\n",
    "        // Should only contain directories, just skip\n",
    "        if(!feedbackUserDirectory.isDirectory()) {\n",
    "            continue;\n",
    "        }\n",
    "        File feedbackAssignmentDirectory = new File(feedbackUserDirectory, assignmentName);\n",
    "        // User has not participated, just skip\n",
    "        if (!feedbackAssignmentDirectory.exists()) {\n",
    "            continue;\n",
    "        }\n",
    "        \n",
    "        directories++;\n",
    "        \n",
    "        if (!feedbackAssignmentDirectory.canRead()) {\n",
    "            System.err.println(\"Can not read feedback for user, skipping: \" + feedbackAssignmentDirectory.getPath());\n",
    "            continue;\n",
    "        }\n",
    "        File userHomeDirectory = new File(\"/home/\" + feedbackUserDirectory.getName());\n",
    "        if (!userHomeDirectory.exists()) {\n",
    "            System.err.println(\"User home not found, skipping: \" + userHomeDirectory.getPath());\n",
    "            continue;\n",
    "        }\n",
    "        if (!userHomeDirectory.canWrite()) {\n",
    "            System.err.println(\"Can not write user home, skipping: \" + userHomeDirectory.getPath());\n",
    "            continue;\n",
    "        }\n",
    "        File resultsDirectory = new File(userHomeDirectory, \"results\");\n",
    "        if (resultsDirectory.exists() && !resultsDirectory.canWrite()) {\n",
    "            System.err.println(\"Can not write results: \" + resultsDirectory.getPath());\n",
    "            continue;\n",
    "        }\n",
    "        File assignmentResultsDirectory = new File(resultsDirectory, assignmentName);\n",
    "\n",
    "\t\ttry {\n",
    "\t\t\tFileUtils.copyDirectory(feedbackAssignmentDirectory, assignmentResultsDirectory);\n",
    "\t\t} catch (IOException e) {\n",
    "            System.err.println(\"Error copying: \" + e.getMessage());\n",
    "            continue;\n",
    "\t\t}\n",
    "        System.out.println(\"Provided feedback: \" + assignmentResultsDirectory);\n",
    "        copies++;\n",
    "    }\n",
    "    System.out.println(directories + \" feedback entries found.\");\n",
    "    System.out.println(copies + \" feedback entries copied.\");\n",
    "}\n",
    "\n",
    "void printAutogradeCommands(String assignmentName) {\n",
    "    System.out.println(\"cd \\\"/home/nbgadmin\\\"\");\n",
    "    System.out.println(\"nbgrader autograde \\\"\" + assignmentName + \"\\\"\");\n",
    "}\n",
    "\n",
    "void printFeedbackCommands(String assignmentName) {\n",
    "    System.out.println(\"cd \\\"/home/nbgadmin\\\"\");\n",
    "    System.out.println(\"nbgrader feedback \\\"\" + assignmentName + \"\\\"\");\n",
    "}"
   ]
  },
  {
   "cell_type": "markdown",
   "metadata": {},
   "source": [
    "## Configuration\n",
    "\n",
    "Specify an **assignment name** for the next steps.\n"
   ]
  },
  {
   "cell_type": "code",
   "execution_count": null,
   "metadata": {},
   "outputs": [],
   "source": [
    "String assignmentName = \"Example\";"
   ]
  },
  {
   "cell_type": "markdown",
   "metadata": {},
   "source": [
    "## Create an assignment\n",
    "\n",
    "1. Specify the **number of exercise files to create** in the following cell.\n",
    "2. Run the createAssignment cell. It will create the assignment directory and template files."
   ]
  },
  {
   "cell_type": "code",
   "execution_count": null,
   "metadata": {},
   "outputs": [],
   "source": [
    "int numberOfExercisesFilesToCreate = 3;"
   ]
  },
  {
   "cell_type": "code",
   "execution_count": null,
   "metadata": {
    "scrolled": true
   },
   "outputs": [],
   "source": [
    "createAssignment(assignmentName, numberOfExercisesFilesToCreate);"
   ]
  },
  {
   "cell_type": "markdown",
   "metadata": {},
   "source": [
    "3. Open the [source directory in the files view](/user/nbgadmin/tree/source).  \n",
    "  * Edit the files.  \n",
    "  * **Delete** unused files.  \n",
    "  * Set the points of the **autograder test cells** or remove the cells."
   ]
  },
  {
   "cell_type": "markdown",
   "metadata": {},
   "source": [
    "## Release the assignment\n",
    "\n",
    "Open [Formgrader](/user/nbgadmin/formgrader).\n",
    "\n",
    "1. Click on [**Generate**].  \n",
    "   (Generated files will be stored in the _release_ directory.)\n",
    "2. Click on [**Preview**].  \n",
    "   Check the generated files.  \n",
    "   If there are errors, edit the files and continue with step 1.\n",
    "3. Click on [**Release**].  \n",
    "   If you want to test the release, you can login as _nbgtesta_, _nbgtestb_, and _nbgtestc_.\n",
    "4. You may want to make a backup of the _source/[assignmentName]_ directory to save your solution.\n",
    "5. **Inform your students** about the assignment and a **deadline**."
   ]
  },
  {
   "cell_type": "markdown",
   "metadata": {},
   "source": [
    "## Finish the assignment\n",
    "\n",
    "Open [Formgrader](/user/nbgadmin/formgrader).\n",
    "\n",
    "1. Click on [**Collect**].  \n",
    "   (Collected files will be stored in the _submitted_ directory.)\n",
    "2. Click on [**Release**] to to end the release.\n",
    "3. You could stop all running servers at the [hub admin](/hub/admin) (which also will affect this notebook).\n",
    "4. You may want to make a backup of the _submitted_ directory to save the student solutions."
   ]
  },
  {
   "cell_type": "markdown",
   "metadata": {},
   "source": [
    "## Rate the assignment\n",
    "\n",
    "1. Open a [terminal](/user/nbgadmin/terminals/1) and use the lines printed in the following cell to **autograde** the assignment.\n",
    "2. Open [Formgrader](/user/nbgadmin/formgrader) and click on **[Manual Grading]** and rate the answers.\n",
    "3. You may want to make a backup of the nbgrader database _gradebook.db_ to save the students points."
   ]
  },
  {
   "cell_type": "code",
   "execution_count": null,
   "metadata": {},
   "outputs": [],
   "source": [
    "printAutogradeCommands(assignmentName);"
   ]
  },
  {
   "cell_type": "markdown",
   "metadata": {},
   "source": [
    "## Provide feedback\n",
    "\n",
    "1. Open a [terminal](/user/nbgadmin/terminals/1) and use the lines printed in the following cell to create **feedback** of the assignment.\n",
    "2. Run the cell afterwards to generate feedback in HTML format and to copy the generated feedback to the students filesystem directories."
   ]
  },
  {
   "cell_type": "code",
   "execution_count": null,
   "metadata": {},
   "outputs": [],
   "source": [
    "printFeedbackCommands(assignmentName);"
   ]
  },
  {
   "cell_type": "code",
   "execution_count": null,
   "metadata": {},
   "outputs": [],
   "source": [
    "copyFeedback(assignmentName);"
   ]
  }
 ],
 "metadata": {
  "kernelspec": {
   "display_name": "Java",
   "language": "java",
   "name": "java"
  },
  "language_info": {
   "codemirror_mode": "java",
   "file_extension": ".java",
   "mimetype": "text/x-java-source",
   "name": "Java",
   "pygments_lexer": "java",
   "version": "10.0.2+13-Ubuntu-1ubuntu0.18.04.4"
  }
 },
 "nbformat": 4,
 "nbformat_minor": 2
}

