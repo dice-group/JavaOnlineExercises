{
 "cells": [
  {
   "cell_type": "markdown",
   "metadata": {},
   "source": [
    "# Filesystem tests\n",
    "\n",
    "aw"
   ]
  },
  {
   "cell_type": "code",
   "execution_count": 1,
   "metadata": {},
   "outputs": [],
   "source": [
    "\tprivate static void exec(String command) throws Exception {\n",
    "\t\t// https://www.mkyong.com/java/how-to-execute-shell-command-from-java/\n",
    "\t\tSystem.out.println(command);\n",
    "\t\tProcess p = Runtime.getRuntime().exec(\"whoami\");\n",
    "\t\tp.waitFor();\n",
    "\t\tBufferedReader r = new BufferedReader(new InputStreamReader(p.getInputStream()));\n",
    "\n",
    "\t\tStringBuffer sb = new StringBuffer();\n",
    "\t\tString l = \"\";\n",
    "\t\twhile ((l = r.readLine()) != null) {\n",
    "\t\t\tsb.append(l + \"\\n\");\n",
    "\t\t}\n",
    "\t\tSystem.out.print(sb.toString());\n",
    "\t}"
   ]
  },
  {
   "cell_type": "code",
   "execution_count": 2,
   "metadata": {},
   "outputs": [],
   "source": [
    "\tprivate static void files(String directory) throws Exception {\n",
    "\t\tSystem.out.println(directory);\n",
    "\t\tFile d = new File(directory);\n",
    "\t\tfor (File f : d.listFiles()) {\n",
    "\t\t\tSystem.out.print(f.isDirectory() ? \"d\" : \" \");\n",
    "\t\t\tSystem.out.print(f.canRead() ? \"r\" : \" \");\n",
    "\t\t\tSystem.out.print(f.canWrite() ? \"w\" : \" \");\n",
    "\t\t\tSystem.out.print(f.canExecute() ? \"x\" : \" \");\n",
    "\t\t\tSystem.out.println(\" \" + f.getCanonicalPath());\n",
    "\t\t}\n",
    "\t}"
   ]
  },
  {
   "cell_type": "code",
   "execution_count": 3,
   "metadata": {},
   "outputs": [],
   "source": [
    "\tprivate static void read(String file) throws Exception {\n",
    "\t\t// https://howtodoinjava.com/java/io/java-read-file-to-string-examples/\n",
    "\t\tSystem.out.println(file);\n",
    "\t\tStringBuilder sb = new StringBuilder();\n",
    "\t\tBufferedReader br = new BufferedReader(new FileReader(file));\n",
    "\t\tString l;\n",
    "\t\twhile ((l = br.readLine()) != null) {\n",
    "\t\t\tsb.append(l).append(\"\\n\");\n",
    "\t\t}\n",
    "\t\tSystem.out.print(sb.toString());\n",
    "\t\tbr.close();\n",
    "\t}"
   ]
  },
  {
   "cell_type": "code",
   "execution_count": 4,
   "metadata": {},
   "outputs": [
    {
     "name": "stdout",
     "output_type": "stream",
     "text": [
      "whoami\n",
      "nbguser\n"
     ]
    }
   ],
   "source": [
    "exec(\"whoami\");"
   ]
  },
  {
   "cell_type": "code",
   "execution_count": 5,
   "metadata": {},
   "outputs": [
    {
     "name": "stdout",
     "output_type": "stream",
     "text": [
      "/home\n",
      "drwx /home/nbguser\n",
      "d    /home/.nbgadmin\n",
      "d    /home/nbgadmin\n"
     ]
    }
   ],
   "source": [
    "files(\"/home\");"
   ]
  },
  {
   "cell_type": "code",
   "execution_count": 6,
   "metadata": {},
   "outputs": [
    {
     "name": "stdout",
     "output_type": "stream",
     "text": [
      "/home/nbgadmin\n"
     ]
    },
    {
     "ename": "EvalException",
     "evalue": "null",
     "output_type": "error",
     "traceback": [
      "\u001b[1m\u001b[31m---------------------------------------------------------------------------\u001b[0m",
      "\u001b[1m\u001b[31mjava.lang.NullPointerException: null\u001b[0m",
      "\u001b[1m\u001b[31m\tat .files(#17:4)\u001b[0m",
      "\u001b[1m\u001b[31m\tat .(#21:1)\u001b[0m"
     ]
    }
   ],
   "source": [
    "files(\"/home/nbgadmin\");"
   ]
  },
  {
   "cell_type": "code",
   "execution_count": 7,
   "metadata": {},
   "outputs": [
    {
     "name": "stdout",
     "output_type": "stream",
     "text": [
      "/home/nbguser\n",
      " rw  /home/nbguser/.bash_logout\n",
      " rw  /home/nbguser/.profile\n",
      " rw  /home/nbguser/.bashrc\n",
      " rw  /home/nbguser/.nbgrader.log\n",
      "drwx /home/nbguser/.ipynb_checkpoints\n",
      " rw  /home/nbguser/Untitled.ipynb\n",
      "drwx /home/nbguser/.cache\n",
      "drwx /home/nbguser/.local\n"
     ]
    }
   ],
   "source": [
    "files(\"/home/nbguser\");\n",
    "//read(\"/home/nbguser/.nbgrader.log\");"
   ]
  },
  {
   "cell_type": "code",
   "execution_count": 8,
   "metadata": {},
   "outputs": [
    {
     "name": "stdout",
     "output_type": "stream",
     "text": [
      "/mnt\n"
     ]
    },
    {
     "ename": "EvalException",
     "evalue": "null",
     "output_type": "error",
     "traceback": [
      "\u001b[1m\u001b[31m---------------------------------------------------------------------------\u001b[0m",
      "\u001b[1m\u001b[31mjava.lang.NullPointerException: null\u001b[0m",
      "\u001b[1m\u001b[31m\tat .files(#17:4)\u001b[0m",
      "\u001b[1m\u001b[31m\tat .(#23:1)\u001b[0m"
     ]
    }
   ],
   "source": [
    "files(\"/mnt\");"
   ]
  },
  {
   "cell_type": "code",
   "execution_count": 9,
   "metadata": {},
   "outputs": [
    {
     "name": "stdout",
     "output_type": "stream",
     "text": [
      "/opt\n",
      "d    /opt/ssl\n",
      "dr x /opt/conda\n",
      "dr x /opt/Oracle_Java\n"
     ]
    }
   ],
   "source": [
    "files(\"/opt\");"
   ]
  },
  {
   "cell_type": "code",
   "execution_count": 10,
   "metadata": {},
   "outputs": [
    {
     "name": "stdout",
     "output_type": "stream",
     "text": [
      "/opt/conda/etc/jupyter\n",
      "dr x /opt/conda/etc/jupyter/nbconfig\n",
      " r   /opt/conda/etc/jupyter/jupyter_notebook_config.json\n",
      " r   /opt/conda/etc/jupyter/nbgrader_config.py\n"
     ]
    }
   ],
   "source": [
    "// /opt/conda/etc/jupyter/nbgrader_config.py\n",
    "files(\"/opt/conda/etc/jupyter\");"
   ]
  },
  {
   "cell_type": "code",
   "execution_count": 11,
   "metadata": {},
   "outputs": [
    {
     "name": "stdout",
     "output_type": "stream",
     "text": [
      "/srv\n",
      "dr x /srv/jupyterhub\n",
      "dr x /srv/distribution\n",
      "dr x /srv/nbgrader\n"
     ]
    }
   ],
   "source": [
    "files(\"/srv\");"
   ]
  },
  {
   "cell_type": "code",
   "execution_count": 12,
   "metadata": {},
   "outputs": [
    {
     "name": "stdout",
     "output_type": "stream",
     "text": [
      "/srv/jupyterhub/\n",
      " r   /srv/jupyterhub/jupyterhub.sqlite\n",
      " r   /srv/jupyterhub/jupyterhub-proxy.pid\n",
      "     /srv/jupyterhub/jupyterhub_cookie_secret\n",
      "dr x /srv/jupyterhub/java\n",
      " r   /srv/jupyterhub/ijava-1.1.2.zip\n",
      " r   /srv/jupyterhub/install.py\n",
      " r   /srv/jupyterhub/jupyterhub_config.py\n",
      " r   /srv/jupyterhub/jdk-11.0.1_linux-x64_bin.tar.gz\n"
     ]
    }
   ],
   "source": [
    "// /srv/jupyterhub/jupyterhub_config.py\n",
    "files(\"/srv/jupyterhub/\")"
   ]
  },
  {
   "cell_type": "code",
   "execution_count": 13,
   "metadata": {},
   "outputs": [
    {
     "name": "stdout",
     "output_type": "stream",
     "text": [
      "/srv/nbgrader/exchange\n"
     ]
    }
   ],
   "source": [
    "files(\"/srv/nbgrader/exchange\");"
   ]
  }
 ],
 "metadata": {
  "kernelspec": {
   "display_name": "Java",
   "language": "java",
   "name": "java"
  },
  "language_info": {
   "codemirror_mode": "java",
   "file_extension": ".java",
   "mimetype": "text/x-java-source",
   "name": "Java",
   "pygments_lexer": "java",
   "version": "11.0.1+13-LTS"
  }
 },
 "nbformat": 4,
 "nbformat_minor": 2
}
