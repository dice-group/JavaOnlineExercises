{
 "cells": [
  {
   "cell_type": "markdown",
   "metadata": {
    "nbgrader": {
     "grade": false,
     "grade_id": "cell-markdown-task",
     "locked": true,
     "schema_version": 1,
     "solution": false
    }
   },
   "source": [
    "## Multiple choice\n",
    "\n",
    "# Which of the possible answers are colors?\n",
    "\n",
    "Set the variables to **true**, if they represent a **correct** answer.\n",
    "\n",
    "#### Notes\n",
    "\n",
    "- **Do not change the names of the variables**.\n",
    "- Finish\n",
    "  - Save your solution by clicking on the _disk icon_.\n",
    "  - Finally, choose _Menu_ -> _File_ -> _Close and Halt_.\n",
    "  - Do not forget to _Submit_ your solution in the _Assignments_ view."
   ]
  },
  {
   "cell_type": "code",
   "execution_count": null,
   "metadata": {
    "nbgrader": {
     "grade": false,
     "grade_id": "cell-code",
     "locked": false,
     "schema_version": 1,
     "solution": true
    }
   },
   "outputs": [],
   "source": [
    "boolean cat   = false;\n",
    "boolean green = false;\n",
    "boolean red   = false;\n",
    "boolean dog   = false;\n",
    "\n",
    "// BEGIN SOLUTION\n",
    "green = true;\n",
    "red = true;\n",
    "// END SOLUTION"
   ]
  },
  {
   "cell_type": "markdown",
   "metadata": {
    "nbgrader": {
     "grade": false,
     "grade_id": "cell-markdown-evaluation",
     "locked": true,
     "schema_version": 1,
     "solution": false
    }
   },
   "source": [
    "# Evaluation\n",
    "\n",
    "- You can ignore the following cells."
   ]
  },
  {
   "cell_type": "code",
   "execution_count": null,
   "metadata": {
    "nbgrader": {
     "grade": true,
     "grade_id": "cell-autograde-visible",
     "locked": true,
     "points": 0,
     "schema_version": 1,
     "solution": false
    }
   },
   "outputs": [],
   "source": [
    "%maven org.junit.jupiter:junit-jupiter-api:5.3.1\n",
    "import org.junit.jupiter.api.Assertions;\n",
    "import org.opentest4j.AssertionFailedError;"
   ]
  },
  {
   "cell_type": "code",
   "execution_count": null,
   "metadata": {
    "nbgrader": {
     "grade": true,
     "grade_id": "cell-autograde-all",
     "locked": true,
     "points": 3,
     "schema_version": 1,
     "solution": false
    }
   },
   "outputs": [],
   "source": [
    "// Ignore this cell\n",
    "// BEGIN HIDDEN TESTS\n",
    "\n",
    "/* Notes for lecturers:\n",
    " *\n",
    " * If you want to award points ONLY if ALL solutions are correct:\n",
    " * - Set all points to this cell.\n",
    " * - Set the points in other autograder-test-cells to 0.\n",
    " * - Do NOT delete other autograder-test-cells.\n",
    " *   They will provide feedback to the students.\n",
    " *\n",
    " * If you want to award points ONLY for EACH single solution:\n",
    " * - Set the points in this cell to 0.\n",
    " * - Set the points in other autograder-test-cells to 1 (or greater, if a greater sum is needed).\n",
    " * - You can remove the assertions in this cell.\n",
    " *\n",
    " * If you want to have a combination:\n",
    " * - Set points for all autograder-test-cells.\n",
    " *\n",
    " * Example configuration:\n",
    " * - 3+1+1+1+1 = 7 points for a perfect solution.\n",
    " * - 0+1+1+1+0 = 3 points, if 'dog is a color' is the opinion of the student.\n",
    " *\n",
    " * Overview of Assertions:\n",
    " * https://junit.org/junit5/docs/current/api/org/junit/jupiter/api/Assertions.html\n",
    " */\n",
    "\n",
    "Assertions.assertFalse(cat, \"general test\");\n",
    "Assertions.assertTrue(green, \"general test\");\n",
    "Assertions.assertTrue(red, \"general test\");\n",
    "Assertions.assertFalse(dog, \"general test\");\n",
    "\n",
    "// END HIDDEN TESTS"
   ]
  },
  {
   "cell_type": "code",
   "execution_count": null,
   "metadata": {
    "nbgrader": {
     "grade": true,
     "grade_id": "cell-autograde-1",
     "locked": true,
     "points": 1,
     "schema_version": 1,
     "solution": false
    }
   },
   "outputs": [],
   "source": [
    "// Ignore this cell\n",
    "// BEGIN HIDDEN TESTS\n",
    "\n",
    "Assertions.assertFalse(cat, \"cat\");\n",
    "\n",
    "// END HIDDEN TESTS"
   ]
  },
  {
   "cell_type": "code",
   "execution_count": null,
   "metadata": {
    "nbgrader": {
     "grade": true,
     "grade_id": "cell-autograde-2",
     "locked": true,
     "points": 1,
     "schema_version": 1,
     "solution": false
    }
   },
   "outputs": [],
   "source": [
    "// Ignore this cell\n",
    "// BEGIN HIDDEN TESTS\n",
    "\n",
    "Assertions.assertTrue(green, \"green\");\n",
    "\n",
    "// END HIDDEN TESTS"
   ]
  },
  {
   "cell_type": "code",
   "execution_count": null,
   "metadata": {
    "nbgrader": {
     "grade": true,
     "grade_id": "cell-autograde-3",
     "locked": true,
     "points": 1,
     "schema_version": 1,
     "solution": false
    }
   },
   "outputs": [],
   "source": [
    "// Ignore this cell\n",
    "// BEGIN HIDDEN TESTS\n",
    "\n",
    "Assertions.assertTrue(red, \"red\");\n",
    "\n",
    "// END HIDDEN TESTS"
   ]
  },
  {
   "cell_type": "code",
   "execution_count": null,
   "metadata": {
    "nbgrader": {
     "grade": true,
     "grade_id": "cell-autograde-4",
     "locked": true,
     "points": 1,
     "schema_version": 1,
     "solution": false
    }
   },
   "outputs": [],
   "source": [
    "// Ignore this cell\n",
    "// BEGIN HIDDEN TESTS\n",
    "\n",
    "Assertions.assertFalse(dog, \"dog\");\n",
    "\n",
    "// END HIDDEN TESTS"
   ]
  }
 ],
 "metadata": {
  "celltoolbar": "Create Assignment",
  "kernelspec": {
   "display_name": "Java",
   "language": "java",
   "name": "java"
  },
  "language_info": {
   "codemirror_mode": "java",
   "file_extension": ".java",
   "mimetype": "text/x-java-source",
   "name": "Java",
   "pygments_lexer": "java",
   "version": "11.0.1+13-LTS"
  }
 },
 "nbformat": 4,
 "nbformat_minor": 2
}
