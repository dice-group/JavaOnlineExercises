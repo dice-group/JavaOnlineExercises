{
 "cells": [
  {
   "cell_type": "markdown",
   "metadata": {},
   "source": [
    "# Filesystem example\n",
    "\n",
    "- [Apache Commons IO FileUtils](https://commons.apache.org/proper/commons-io/javadocs/api-release/index.html?org/apache/commons/io/FileUtils.html)\n",
    "- The directory for shared files is `/srv/distribution/`.  \n",
    "  Students can read, but not write."
   ]
  },
  {
   "cell_type": "code",
   "execution_count": null,
   "metadata": {},
   "outputs": [],
   "source": [
    "%maven commons-io:commons-io:2.6\n",
    "import org.apache.commons.io.FileUtils;\n",
    "import org.apache.commons.io.filefilter.TrueFileFilter;"
   ]
  },
  {
   "cell_type": "markdown",
   "metadata": {},
   "source": [
    "## Read example\n",
    "\n",
    "Can be used in assignments."
   ]
  },
  {
   "cell_type": "code",
   "execution_count": null,
   "metadata": {},
   "outputs": [],
   "source": [
    "File file = new File(\"/srv/distribution/hello-world.txt\");\n",
    "String helloWorld = FileUtils.readFileToString(file, \"UTF-8\");\n",
    "System.out.println(helloWorld);"
   ]
  },
  {
   "cell_type": "markdown",
   "metadata": {},
   "source": [
    "## Write example\n",
    "\n",
    "Only possible for nbgadmin.  \n",
    "Code can be used to create files for assignments."
   ]
  },
  {
   "cell_type": "code",
   "execution_count": null,
   "metadata": {},
   "outputs": [],
   "source": [
    "File tmpFile = new File(\"/srv/distribution/tmp.txt\");\n",
    "FileUtils.writeStringToFile(tmpFile, \"Test\", \"UTF-8\");\n",
    "String tmpString = FileUtils.readFileToString(tmpFile, \"UTF-8\");\n",
    "tmpFile.delete();\n",
    "System.out.println(tmpString);"
   ]
  },
  {
   "cell_type": "markdown",
   "metadata": {},
   "source": [
    "## List files example"
   ]
  },
  {
   "cell_type": "code",
   "execution_count": null,
   "metadata": {},
   "outputs": [],
   "source": [
    "File distributionDirectory = new File(\"/srv/distribution/\");\n",
    "Collection<File> files = FileUtils.listFiles(distributionDirectory, TrueFileFilter.INSTANCE, TrueFileFilter.INSTANCE);\n",
    "for (File file : files) {\n",
    "\tSystem.out.println(file);\n",
    "}"
   ]
  }
 ],
 "metadata": {
  "kernelspec": {
   "display_name": "Java",
   "language": "java",
   "name": "java"
  },
  "language_info": {
   "codemirror_mode": "java",
   "file_extension": ".java",
   "mimetype": "text/x-java-source",
   "name": "Java",
   "pygments_lexer": "java",
   "version": "11.0.1+13-LTS"
  }
 },
 "nbformat": 4,
 "nbformat_minor": 2
}
