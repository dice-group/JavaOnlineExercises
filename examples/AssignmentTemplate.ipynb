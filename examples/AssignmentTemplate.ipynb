{
 "cells": [
  {
   "cell_type": "markdown",
   "metadata": {
    "nbgrader": {
     "grade": false,
     "grade_id": "cell-markdown-task",
     "locked": true,
     "schema_version": 1,
     "solution": false
    }
   },
   "source": [
    "# Exercise: Numeric ASCII representation\n",
    "\n",
    "(24 points)\n",
    "\n",
    "Implement a method which converts a String to the numeric ASCII representation of its single characters.\n",
    "\n",
    "#### Example\n",
    "\n",
    "<table>\n",
    "    <tr>\n",
    "        <th></th>\n",
    "        <th><p align=\"left\">Input</p></th>\n",
    "        <th><p align=\"left\">Output</p></th>\n",
    "    </tr>\n",
    "    <tr>\n",
    "        <td><p align=\"left\"><b>Type</b></p></td>\n",
    "        <td><p align=\"left\">String</p></td>\n",
    "        <td><p align=\"left\">int array</p></td>\n",
    "    </tr>\n",
    "    <tr>\n",
    "        <td><p align=\"left\"><b>Value</b></p></td>\n",
    "        <td><p align=\"left\">Hi</p></td>\n",
    "        <td><p align=\"left\">72, 105</p></td>\n",
    "    </tr>\n",
    "</table>\n",
    "\n",
    "#### Hints\n",
    "\n",
    "- The [String class](https://docs.oracle.com/en/java/javase/11/docs/api/java.base/java/lang/String.html#toCharArray()) provides methods for conversion.\n",
    "- Please read the [notes](#Notes) at the end of this notebook."
   ]
  },
  {
   "cell_type": "code",
   "execution_count": null,
   "metadata": {
    "nbgrader": {
     "grade": false,
     "grade_id": "cell-code",
     "locked": false,
     "schema_version": 1,
     "solution": true
    }
   },
   "outputs": [],
   "source": [
    "public class Exercise {\n",
    "\n",
    "    /**\n",
    "     * Converts a String to the numeric ASCII representation of its single\n",
    "     * characters.\n",
    "     */\n",
    "    public int[] toNumericAscii(String string) {\n",
    "        int[] result = new int[string.length()];\n",
    "\n",
    "        // BEGIN SOLUTION\n",
    "\n",
    "        /*\n",
    "         * Notes for lecturers:\n",
    "         *\n",
    "         * Markdown examples for the cell above:\n",
    "         * https://jupyter-notebook.readthedocs.io/en/stable/examples/Notebook/Working%20With%20Markdown%20Cells.html\n",
    "         * \n",
    "         * Insert your solution inside one or several marked solution blocks. These\n",
    "         * blocks will be removed for students.\n",
    "         *\n",
    "         * If possible, a return variable should be defined before this marked solution\n",
    "         * block. It avoids unnecessary error messages, if the solution block is removed\n",
    "         * for the students. A null value also works.\n",
    "         * \n",
    "         * You can remove this comment.\n",
    "         */\n",
    "\n",
    "        char[] chars = string.toCharArray();\n",
    "        for (int i = 0; i < chars.length; i++) {\n",
    "            result[i] = chars[i];\n",
    "        }\n",
    "\n",
    "        // END SOLUTION\n",
    "\n",
    "        return result;\n",
    "    }\n",
    "}"
   ]
  },
  {
   "cell_type": "markdown",
   "metadata": {
    "nbgrader": {
     "grade": false,
     "grade_id": "cell-markdown-evaluation",
     "locked": true,
     "schema_version": 1,
     "solution": false
    }
   },
   "source": [
    "# Evaluation\n",
    "\n",
    "- Run the following cell to test your implementation.\n",
    "- You can ignore the empty cells afterwards."
   ]
  },
  {
   "cell_type": "code",
   "execution_count": null,
   "metadata": {
    "nbgrader": {
     "grade": true,
     "grade_id": "cell-autograde-visible",
     "locked": true,
     "points": 0,
     "schema_version": 1,
     "solution": false
    }
   },
   "outputs": [],
   "source": [
    "%maven org.junit.jupiter:junit-jupiter-api:5.3.1\n",
    "import org.junit.jupiter.api.Assertions;\n",
    "import org.opentest4j.AssertionFailedError;\n",
    "\n",
    "void test(String inputString, int[] expectedResult, String testDescription) {\n",
    "    try {\n",
    "        long time = System.currentTimeMillis();\n",
    "\n",
    "        Assertions.assertArrayEquals(expectedResult, new Exercise().toNumericAscii(inputString),\n",
    "                                     testDescription);\n",
    "\n",
    "        time = System.currentTimeMillis() - time;\n",
    "        System.out.println(\"Test(s) successfully completed. Calculation took \" + time + \" ms.\");\n",
    "    } catch (AssertionFailedError e) {\n",
    "        System.err.println(\"Your solution returned an unexpected result. \");\n",
    "        throw e;\n",
    "    } catch (Throwable e) {\n",
    "        System.err.println(\"Your solution caused an unexpected error. \");\n",
    "        throw e;\n",
    "    }\n",
    "}\n",
    "\n",
    "test(\"Hi\", new int[] { 72, 105 }, \"Testing 'Hi'\");"
   ]
  },
  {
   "cell_type": "code",
   "execution_count": null,
   "metadata": {
    "nbgrader": {
     "grade": true,
     "grade_id": "cell-autograde-1",
     "locked": true,
     "points": 14,
     "schema_version": 1,
     "solution": false
    }
   },
   "outputs": [],
   "source": [
    "// Ignore this cell\n",
    "// BEGIN HIDDEN TESTS\n",
    "\n",
    "/* Notes for lecturers:\n",
    " *\n",
    " * For the cell above 'cell-autograde-visible', there should be no points.\n",
    " * Use this cell instead to create a test case similar to the visible test.\n",
    " * This avoids students to just return the exact solution of the visible test.\n",
    " *\n",
    " * Use the last parameter of assertions to provide meaningful test descriptions.\n",
    " * A description \"Test no. X\" also helps in giving feedback.\n",
    " *\n",
    " * Feel free to change the parameters of the method test(...).\n",
    " * \n",
    " * Overview of Assertions:\n",
    " * https://junit.org/junit5/docs/current/api/org/junit/jupiter/api/Assertions.html\n",
    " */\n",
    "\n",
    "test(\"Ho\", new int[] { 72, 111 }, \"Testing 'Ho'\");\n",
    "\n",
    "// END HIDDEN TESTS"
   ]
  },
  {
   "cell_type": "code",
   "execution_count": null,
   "metadata": {
    "nbgrader": {
     "grade": true,
     "grade_id": "cell-autograde-2",
     "locked": true,
     "points": 10,
     "schema_version": 1,
     "solution": false
    }
   },
   "outputs": [],
   "source": [
    "// Ignore this cell\n",
    "// BEGIN HIDDEN TESTS\n",
    "\n",
    "test(\"HiHo\", new int[] { 72, 105, 72, 111 }, \"Testing 'HiHo'\");\n",
    "\n",
    "// END HIDDEN TESTS"
   ]
  },
  {
   "cell_type": "code",
   "execution_count": null,
   "metadata": {
    "nbgrader": {
     "grade": true,
     "grade_id": "cell-autograde-3",
     "locked": true,
     "points": 0,
     "schema_version": 1,
     "solution": false
    }
   },
   "outputs": [],
   "source": [
    "// Ignore this cell\n",
    "// BEGIN HIDDEN TESTS\n",
    "\n",
    "// END HIDDEN TESTS"
   ]
  },
  {
   "cell_type": "code",
   "execution_count": null,
   "metadata": {
    "nbgrader": {
     "grade": true,
     "grade_id": "cell-autograde-4",
     "locked": true,
     "points": 0,
     "schema_version": 1,
     "solution": false
    }
   },
   "outputs": [],
   "source": [
    "// Ignore this cell\n",
    "// BEGIN HIDDEN TESTS\n",
    "\n",
    "// END HIDDEN TESTS"
   ]
  },
  {
   "cell_type": "code",
   "execution_count": null,
   "metadata": {
    "nbgrader": {
     "grade": true,
     "grade_id": "cell-autograde-5",
     "locked": true,
     "points": 0,
     "schema_version": 1,
     "solution": false
    }
   },
   "outputs": [],
   "source": [
    "// Ignore this cell\n",
    "// BEGIN HIDDEN TESTS\n",
    "\n",
    "// END HIDDEN TESTS"
   ]
  },
  {
   "cell_type": "markdown",
   "metadata": {
    "nbgrader": {
     "grade": false,
     "grade_id": "cell-markdown-notes",
     "locked": true,
     "schema_version": 1,
     "solution": false
    }
   },
   "source": [
    "# Notes\n",
    "\n",
    "- You are free to use a different IDE to develop your solution. However, you have to copy the solution into this notebook to submit it.\n",
    "- Do not add additional external libraries.\n",
    "- Interface\n",
    "  - You can use _[TAB]_ for autocompletion and _[SHIFT]_+_[TAB]_ for code inspection.\n",
    "  - Use _Menu_ > _View_ > _Toggle Line Numbers_ for debugging.\n",
    "  - Check _Menu_ > _Help_ > _Keyboard Shortcuts_.\n",
    "- Known issues\n",
    "  - All global variables will be set to void after an import.\n",
    "  - Missing spaces around `%` (modulo operator) can cause unexpected errors so please make sure that you have added spaces around every `%` character.\n",
    "- Finish\n",
    "  - Save your solution by clicking on the _disk icon_.\n",
    "  - Make sure that all necessary imports are listed at the beginning of your cell.\n",
    "  - Run a final check of your solution by\n",
    "    - Click the _fast forward arrow_ in the tool bar (or _Menu_ > _Kernel_ > _Restart & Run All_). Wait fo the kernel to restart and execute all cells (all executable cells should have numbers in front of them instead of a `[*]`).\n",
    "    - Check all executed cells for errors. If an exception is thrown, please check your code. Note that although the error might look cryptic, until now we never encounter that an exception was caused without a valid reason inside of the submitted code. A good way to check the code is to copy the solution into a new class in your favorite IDE and check\n",
    "      - errors reported by the IDE\n",
    "      - imports the IDE adds to your code which might be missing in your submission, here\n",
    "  - Finally, choose _Menu_ > _File_ > _Close and Halt_.\n",
    "  - Do not forget to submit your solution in the _Assignments_ view."
   ]
  }
 ],
 "metadata": {
  "celltoolbar": "Create Assignment",
  "kernelspec": {
   "display_name": "Java",
   "language": "java",
   "name": "java"
  },
  "language_info": {
   "codemirror_mode": "java",
   "file_extension": ".java",
   "mimetype": "text/x-java-source",
   "name": "Java",
   "pygments_lexer": "java",
   "version": "10.0.2+13-Ubuntu-1ubuntu0.18.04.4"
  }
 },
 "nbformat": 4,
 "nbformat_minor": 2
}

