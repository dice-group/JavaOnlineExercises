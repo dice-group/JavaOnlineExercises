{
 "cells": [
  {
   "cell_type": "markdown",
   "metadata": {
    "nbgrader": {
     "grade": false,
     "grade_id": "cell-delete-me-notes",
     "locked": true,
     "schema_version": 1,
     "solution": false
    }
   },
   "source": [
    "# [DELETE THIS CELL] Template\n",
    "\n",
    "- If cell types are not displayed, select in the menu: _View_ -> _Cell Toolbar_ -> _Create Assignment_.\n",
    "- [Markdown](https://jupyter-notebook.readthedocs.io/en/stable/examples/Notebook/Working%20With%20Markdown%20Cells.html)\n",
    "- [JUnit Assertions](https://junit.org/junit5/docs/current/api/org/junit/jupiter/api/Assertions.html)\n",
    "- [Maven Repository](https://mvnrepository.com/)\n",
    "- [Apache Commons IO FileUtils](https://commons.apache.org/proper/commons-io/javadocs/api-release/index.html?org/apache/commons/io/FileUtils.html)"
   ]
  },
  {
   "cell_type": "code",
   "execution_count": null,
   "metadata": {
    "nbgrader": {
     "grade": false,
     "grade_id": "cell-delete-me-files",
     "locked": true,
     "schema_version": 1,
     "solution": false
    }
   },
   "outputs": [],
   "source": [
    "%maven commons-io:commons-io:2.6\n",
    "import org.apache.commons.io.FileUtils;\n",
    "import org.apache.commons.io.filefilter.TrueFileFilter;\n",
    "\n",
    "\n",
    "// [DELETE THIS CELL]\n",
    "\n",
    "\n",
    "/* Distribution of files\n",
    " *\n",
    " * The directory for shared files is /srv/distribution/.\n",
    " * Students can read, but not write.\n",
    " */\n",
    "\n",
    "// Read example\n",
    "// Can be used in assignments.\n",
    "File file = new File(\"/srv/distribution/hello-world.txt\");\n",
    "String string = FileUtils.readFileToString(file, \"UTF-8\");\n",
    "System.out.println(string);\n",
    "\n",
    "// Write example\n",
    "// Only possible for nbgadmin.\n",
    "// Code can be used to create files for assignments.\n",
    "file = new File(\"/srv/distribution/tmp.txt\");\n",
    "FileUtils.writeStringToFile(file, \"Test\", \"UTF-8\");\n",
    "string = FileUtils.readFileToString(file, \"UTF-8\");\n",
    "file.delete();\n",
    "System.out.println(string);\n",
    "\n",
    "// List files check\n",
    "Collection<File> files = FileUtils.listFiles(new File(\"/srv/distribution/\"), TrueFileFilter.INSTANCE, TrueFileFilter.INSTANCE);\n",
    "System.out.println();\n",
    "for (File f : files) {\n",
    "\tSystem.out.println(f);\n",
    "}"
   ]
  },
  {
   "cell_type": "markdown",
   "metadata": {
    "nbgrader": {
     "grade": false,
     "grade_id": "cell-markdown-task",
     "locked": true,
     "schema_version": 1,
     "solution": false
    }
   },
   "source": [
    "# Numeric ASCII representation\n",
    "\n",
    "Implement a method wich converts a String to the numeric ASCII representation of its single characters.\n",
    "\n",
    "#### Example\n",
    "\n",
    "<table>\n",
    "    <tr>\n",
    "        <th></th>\n",
    "        <th><p align=\"left\">Input</p></th>\n",
    "        <th><p align=\"left\">Output</p></th>\n",
    "    </tr>\n",
    "    <tr>\n",
    "        <td><p align=\"left\"><b>Type</b></p></td>\n",
    "        <td><p align=\"left\">String</p></td>\n",
    "        <td><p align=\"left\">int array</p></td>\n",
    "    </tr>\n",
    "    <tr>\n",
    "        <td><p align=\"left\"><b>Value</b></p></td>\n",
    "        <td><p align=\"left\">Hi</p></td>\n",
    "        <td><p align=\"left\">72, 105</p></td>\n",
    "    </tr>\n",
    "</table>\n",
    "\n",
    "#### Hints\n",
    "\n",
    "- The [String class](https://docs.oracle.com/en/java/javase/11/docs/api/java.base/java/lang/String.html) provides methods for convertion.\n",
    "\n",
    "#### Notes\n",
    "\n",
    "- Do not add additional external libraries.\n",
    "- Interface\n",
    "  - You can use _[TAB]_ for autocompletion and _[SHIFT]_+_[TAB]_ for code inspection.\n",
    "  - Use _Menu_ -> _View_ -> _Toggle Line Numbers_ for debugging.\n",
    "  - Check _Menu_ -> _Help_ -> _Keyboard Shortcuts_.\n",
    "- Finish\n",
    "  - Save your solution by clicking on the _disk icon_.\n",
    "  - Finally, choose _Menu_ -> _File_ -> _Close and Halt_.\n",
    "  - Do not forget to _Submit_ your solution in the _Assignments_ view."
   ]
  },
  {
   "cell_type": "code",
   "execution_count": null,
   "metadata": {
    "nbgrader": {
     "grade": false,
     "grade_id": "cell-code",
     "locked": false,
     "schema_version": 1,
     "solution": true
    }
   },
   "outputs": [],
   "source": [
    "int[] toNumericAscii(String string) {\n",
    "    int[] result = new int[string.length()];\n",
    "\n",
    "    // BEGIN SOLUTION\n",
    "    \n",
    "    /* Notes for lecturers:\n",
    "     *\n",
    "     * If possible, the return variable should be initialized outside of the solution.\n",
    "     * It avoids unnecessary error messages, if the solution part is removed.\n",
    "     */\n",
    "\n",
    "    char[] chars = string.toCharArray();\n",
    "    for (int i = 0; i < chars.length; i++) {\n",
    "        result[i] = chars[i];\n",
    "    }\n",
    "    // END SOLUTION\n",
    "\n",
    "    return result;\n",
    "}"
   ]
  },
  {
   "cell_type": "markdown",
   "metadata": {
    "nbgrader": {
     "grade": false,
     "grade_id": "cell-markdown-evaluation",
     "locked": true,
     "schema_version": 1,
     "solution": false
    }
   },
   "source": [
    "# Evaluation\n",
    "\n",
    "- Run the following cell to test your implementation.\n",
    "- You can ignore the cells afterwards."
   ]
  },
  {
   "cell_type": "code",
   "execution_count": null,
   "metadata": {
    "nbgrader": {
     "grade": true,
     "grade_id": "cell-autograde-visible",
     "locked": true,
     "points": 0,
     "schema_version": 1,
     "solution": false
    }
   },
   "outputs": [],
   "source": [
    "%maven org.junit.jupiter:junit-jupiter-api:5.3.1\n",
    "import org.junit.jupiter.api.Assertions;\n",
    "import org.opentest4j.AssertionFailedError;\n",
    "try {\n",
    "\n",
    "    Assertions.assertEquals(105, toNumericAscii(\"Hi\")[1]);\n",
    "    Assertions.assertArrayEquals( new int[]{ 72, 105 }, toNumericAscii(\"Hi\") );\n",
    "    Assertions.assertTrue(72 == toNumericAscii(\"Hi\")[0]);\n",
    "    \n",
    "    System.out.println(\"Test(s) successfully completed\");\n",
    "} catch(AssertionFailedError e) { System.err.print(e); }"
   ]
  },
  {
   "cell_type": "code",
   "execution_count": null,
   "metadata": {
    "nbgrader": {
     "grade": true,
     "grade_id": "cell-autograde-1",
     "locked": true,
     "points": 1,
     "schema_version": 1,
     "solution": false
    }
   },
   "outputs": [],
   "source": [
    "// Ignore this cell\n",
    "// BEGIN HIDDEN TESTS\n",
    "\n",
    "/* Notes for lecturers:\n",
    " *\n",
    " * For the cell above 'cell-autograde-visible', there should be no points.\n",
    " * Use this cell instead to create a similar test.\n",
    " * This avoids to just copy and return the exact test solution.\n",
    " *\n",
    " * Overview of Assertions:\n",
    " * https://junit.org/junit5/docs/current/api/org/junit/jupiter/api/Assertions.html\n",
    " */\n",
    "\n",
    "Assertions.assertEquals(111, toNumericAscii(\"Ho\")[1]);\n",
    "Assertions.assertArrayEquals( new int[]{ 72, 111 }, toNumericAscii(\"Ho\") );\n",
    "Assertions.assertTrue(72 == toNumericAscii(\"Ho\")[0]);\n",
    "\n",
    "// END HIDDEN TESTS"
   ]
  },
  {
   "cell_type": "code",
   "execution_count": null,
   "metadata": {
    "nbgrader": {
     "grade": true,
     "grade_id": "cell-autograde-2",
     "locked": true,
     "points": 1,
     "schema_version": 1,
     "solution": false
    }
   },
   "outputs": [],
   "source": [
    "// Ignore this cell\n",
    "// BEGIN HIDDEN TESTS\n",
    "\n",
    "// END HIDDEN TESTS"
   ]
  },
  {
   "cell_type": "code",
   "execution_count": null,
   "metadata": {
    "nbgrader": {
     "grade": true,
     "grade_id": "cell-autograde-3",
     "locked": true,
     "points": 1,
     "schema_version": 1,
     "solution": false
    }
   },
   "outputs": [],
   "source": [
    "// Ignore this cell\n",
    "// BEGIN HIDDEN TESTS\n",
    "\n",
    "// END HIDDEN TESTS"
   ]
  },
  {
   "cell_type": "code",
   "execution_count": null,
   "metadata": {
    "nbgrader": {
     "grade": true,
     "grade_id": "cell-autograde-4",
     "locked": true,
     "points": 1,
     "schema_version": 1,
     "solution": false
    }
   },
   "outputs": [],
   "source": [
    "// Ignore this cell\n",
    "// BEGIN HIDDEN TESTS\n",
    "\n",
    "// END HIDDEN TESTS"
   ]
  },
  {
   "cell_type": "code",
   "execution_count": null,
   "metadata": {
    "nbgrader": {
     "grade": true,
     "grade_id": "cell-autograde-5",
     "locked": true,
     "points": 1,
     "schema_version": 1,
     "solution": false
    }
   },
   "outputs": [],
   "source": [
    "// Ignore this cell\n",
    "// BEGIN HIDDEN TESTS\n",
    "\n",
    "// END HIDDEN TESTS"
   ]
  }
 ],
 "metadata": {
  "celltoolbar": "Create Assignment",
  "kernelspec": {
   "display_name": "Java",
   "language": "java",
   "name": "java"
  },
  "language_info": {
   "codemirror_mode": "java",
   "file_extension": ".java",
   "mimetype": "text/x-java-source",
   "name": "Java",
   "pygments_lexer": "java",
   "version": "11.0.1+13-LTS"
  }
 },
 "nbformat": 4,
 "nbformat_minor": 2
}
