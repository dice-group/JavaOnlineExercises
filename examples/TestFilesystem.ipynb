{
 "cells": [
  {
   "cell_type": "markdown",
   "metadata": {},
   "source": [
    "# Filesystem tests"
   ]
  },
  {
   "cell_type": "markdown",
   "metadata": {},
   "source": [
    "## Filesystem methods"
   ]
  },
  {
   "cell_type": "code",
   "execution_count": null,
   "metadata": {},
   "outputs": [],
   "source": [
    "String execCommand(String command) throws Exception {\n",
    "    // https://www.mkyong.com/java/how-to-execute-shell-command-from-java/\n",
    "\n",
    "    Process p = Runtime.getRuntime().exec(command);\n",
    "    p.waitFor();\n",
    "    BufferedReader r = new BufferedReader(new InputStreamReader(p.getInputStream()));\n",
    "\n",
    "    StringBuffer sb = new StringBuffer();\n",
    "    String l = \"\";\n",
    "    while ((l = r.readLine()) != null) {\n",
    "        sb.append(l + \"\\n\");\n",
    "    }\n",
    "    return sb.toString();\n",
    "}"
   ]
  },
  {
   "cell_type": "code",
   "execution_count": null,
   "metadata": {},
   "outputs": [],
   "source": [
    "private static String readFile(String file) throws Exception {\n",
    "    // https://howtodoinjava.com/java/io/java-read-file-to-string-examples/\n",
    "\n",
    "    StringBuilder sb = new StringBuilder();\n",
    "    BufferedReader br = new BufferedReader(new FileReader(file));\n",
    "    String l;\n",
    "    while ((l = br.readLine()) != null) {\n",
    "        sb.append(l).append(\"\\n\");\n",
    "    }\n",
    "    br.close();\n",
    "    return sb.toString();\n",
    "}"
   ]
  },
  {
   "cell_type": "markdown",
   "metadata": {},
   "source": [
    "## Config: Is current user an admin?"
   ]
  },
  {
   "cell_type": "code",
   "execution_count": null,
   "metadata": {},
   "outputs": [],
   "source": [
    "boolean admin = false;\n",
    "if(\"nbgadmin\".equals(execCommand(\"whoami\").trim())) {\n",
    "    admin = true;\n",
    "}\n",
    "System.out.println(\"You are\" + (admin ? \"\" : \" not\") + \" logged in as admin.\");"
   ]
  },
  {
   "cell_type": "markdown",
   "metadata": {},
   "source": [
    "## Tests"
   ]
  },
  {
   "cell_type": "code",
   "execution_count": null,
   "metadata": {},
   "outputs": [],
   "source": [
    "%maven org.junit.jupiter:junit-jupiter-api:5.3.1\n",
    "import org.junit.jupiter.api.Assertions;"
   ]
  },
  {
   "cell_type": "markdown",
   "metadata": {},
   "source": [
    "### Home directories"
   ]
  },
  {
   "cell_type": "code",
   "execution_count": null,
   "metadata": {},
   "outputs": [],
   "source": [
    "String user = execCommand(\"whoami\").trim();\n",
    "\n",
    "for (File f : new File(\"/home\").listFiles()) {\n",
    "    if(f.isDirectory()) {\n",
    "        if(f.getName().equals(user) || admin) {\n",
    "            Assertions.assertTrue(f.canRead(), \"canRead \" + f.getPath());\n",
    "        } else {\n",
    "            Assertions.assertFalse(f.canRead(), \"canRead \" + f.getPath());\n",
    "        }\n",
    "    }\n",
    "}"
   ]
  },
  {
   "cell_type": "markdown",
   "metadata": {},
   "source": [
    "### Distribution and exchange directory"
   ]
  },
  {
   "cell_type": "code",
   "execution_count": null,
   "metadata": {},
   "outputs": [],
   "source": [
    "// Read\n",
    "Assertions.assertEquals(\"hello world!\".trim(), readFile(\"/srv/distribution/hello-world.txt\").trim());\n",
    "\n",
    "// Write\n",
    "if(admin) {\n",
    "    Assertions.assertTrue(new File(\"/srv/distribution\").canWrite(), \"canWrite /srv/distribution\");\n",
    "} else {\n",
    "    Assertions.assertFalse(new File(\"/srv/distribution\").canWrite(), \"canWrite /srv/distribution\");\n",
    "}"
   ]
  },
  {
   "cell_type": "code",
   "execution_count": null,
   "metadata": {},
   "outputs": [],
   "source": [
    "// Read\n",
    "Assertions.assertTrue(new File(\"/srv/nbgrader/exchange\").canRead(), \"canRead /srv/nbgrader/exchange\");\n",
    "\n",
    "// Write\n",
    "if(admin) {\n",
    "    Assertions.assertTrue(new File(\"/srv/nbgrader/exchange\").canWrite(), \"canWrite /srv/nbgrader/exchange\");\n",
    "    Assertions.assertFalse(new File(\"/srv/nbgrader\").canWrite(), \"canWrite /srv/nbgrader\");\n",
    "} else {\n",
    "    Assertions.assertTrue(new File(\"/srv/nbgrader/exchange\").canWrite(), \"canWrite /srv/nbgrader/exchange\");\n",
    "    Assertions.assertFalse(new File(\"/srv/nbgrader\").canWrite(), \"canWrite /srv/nbgrader\");\n",
    "}"
   ]
  },
  {
   "cell_type": "markdown",
   "metadata": {},
   "source": [
    "### Configuration directories"
   ]
  },
  {
   "cell_type": "code",
   "execution_count": null,
   "metadata": {},
   "outputs": [],
   "source": [
    "Assertions.assertFalse(new File(\"/mnt\").canRead(), \"canWrite /mnt\");\n",
    "Assertions.assertFalse(new File(\"/mnt\").canWrite(), \"canWrite /mnt\");\n",
    "\n",
    "File nCfg = new File(\"/opt/conda/etc/jupyter/nbgrader_config.py\");\n",
    "Assertions.assertFalse(nCfg.canWrite(), \"canWrite \" + nCfg.getPath());\n",
    "\n",
    "File jCfg = new File(\"/srv/jupyterhub/jupyterhub_config.py\");\n",
    "Assertions.assertFalse(jCfg.canWrite(), \"canWrite \" + jCfg.getPath());"
   ]
  },
  {
   "cell_type": "markdown",
   "metadata": {},
   "source": [
    "### Installation directories"
   ]
  },
  {
   "cell_type": "code",
   "execution_count": null,
   "metadata": {},
   "outputs": [],
   "source": [
    "for (File f : new File(\"/opt\").listFiles()) {\n",
    "    \n",
    "    // Read\n",
    "    if(f.getName().equals(\"Oracle_Java\") || f.getName().equals(\"conda\")) {\n",
    "        Assertions.assertTrue(f.canRead(), \"canRead \" + f.getPath());\n",
    "    } else {\n",
    "        Assertions.assertFalse(f.canRead(), \"canRead \" + f.getPath());   \n",
    "    }\n",
    "    \n",
    "    // Write\n",
    "    Assertions.assertFalse(f.canWrite(), \"canWrite \" + f.getPath());\n",
    "}"
   ]
  },
  {
   "cell_type": "code",
   "execution_count": null,
   "metadata": {},
   "outputs": [],
   "source": [
    "for (File f : new File(\"/srv\").listFiles()) {\n",
    "    \n",
    "    // Read\n",
    "    Assertions.assertTrue(f.canRead(), \"canRead \" + f.getPath());\n",
    "    \n",
    "    // Write\n",
    "    if(f.getName().equals(\"distribution\")) {\n",
    "        if(admin) {\n",
    "            Assertions.assertTrue(f.canWrite(), \"canWrite \" + f.getPath());\n",
    "        } else {\n",
    "            Assertions.assertFalse(f.canWrite(), \"canWrite \" + f.getPath());\n",
    "        }\n",
    "    } else {\n",
    "        Assertions.assertFalse(f.canWrite(), \"canWrite \" + f.getPath());\n",
    "    }\n",
    "}"
   ]
  },
  {
   "cell_type": "markdown",
   "metadata": {},
   "source": [
    "## Human tests"
   ]
  },
  {
   "cell_type": "code",
   "execution_count": null,
   "metadata": {},
   "outputs": [],
   "source": [
    "void printFilePermissions(String directory) throws Exception {\n",
    "    for (File f : new File(directory).listFiles()) {\n",
    "        System.out.print(f.isDirectory() ? \"d\" : \" \");\n",
    "        System.out.print(f.canRead() ? \"r\" : \" \");\n",
    "        System.out.print(f.canWrite() ? \"w\" : \" \");\n",
    "        System.out.print(f.canExecute() ? \"x\" : \" \");\n",
    "        System.out.println(\" \" + f.getCanonicalPath());\n",
    "    }\n",
    "}"
   ]
  },
  {
   "cell_type": "code",
   "execution_count": null,
   "metadata": {},
   "outputs": [],
   "source": [
    "System.out.println(execCommand(\"whoami\"));"
   ]
  },
  {
   "cell_type": "code",
   "execution_count": null,
   "metadata": {},
   "outputs": [],
   "source": [
    "printFilePermissions(\"/home\");"
   ]
  },
  {
   "cell_type": "code",
   "execution_count": null,
   "metadata": {},
   "outputs": [],
   "source": [
    "// only if current user equals\n",
    "printFilePermissions(\"/home/nbgadmin\");"
   ]
  },
  {
   "cell_type": "code",
   "execution_count": null,
   "metadata": {},
   "outputs": [],
   "source": [
    "// only if current user equals or as admin\n",
    "printFilePermissions(\"/home/nbguser\");"
   ]
  },
  {
   "cell_type": "code",
   "execution_count": null,
   "metadata": {},
   "outputs": [],
   "source": [
    "readFile(\"/srv/distribution/hello-world.txt\");"
   ]
  },
  {
   "cell_type": "code",
   "execution_count": null,
   "metadata": {},
   "outputs": [],
   "source": [
    "// should not work\n",
    "printFilePermissions(\"/mnt\");"
   ]
  },
  {
   "cell_type": "code",
   "execution_count": null,
   "metadata": {},
   "outputs": [],
   "source": [
    "printFilePermissions(\"/opt\");"
   ]
  },
  {
   "cell_type": "code",
   "execution_count": null,
   "metadata": {},
   "outputs": [],
   "source": [
    "printFilePermissions(\"/srv\");"
   ]
  },
  {
   "cell_type": "code",
   "execution_count": null,
   "metadata": {},
   "outputs": [],
   "source": [
    "printFilePermissions(\"/srv/nbgrader/\");"
   ]
  }
 ],
 "metadata": {
  "kernelspec": {
   "display_name": "Java",
   "language": "java",
   "name": "java"
  },
  "language_info": {
   "codemirror_mode": "java",
   "file_extension": ".java",
   "mimetype": "text/x-java-source",
   "name": "Java",
   "pygments_lexer": "java",
   "version": "11.0.1+13-LTS"
  }
 },
 "nbformat": 4,
 "nbformat_minor": 2
}
