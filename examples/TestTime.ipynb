{
 "cells": [
  {
   "cell_type": "markdown",
   "metadata": {
    "nbgrader": {
     "grade": false,
     "grade_id": "cell-markdown-task",
     "locked": true,
     "schema_version": 1,
     "solution": false
    }
   },
   "source": [
    "# Time test\n",
    "\n",
    "This tests the maximum execution time.  \n",
    "It is defined by nbgrader option `ExecutePreprocessor.timeout`.  \n",
    "The test has to be executed as an assignment."
   ]
  },
  {
   "cell_type": "code",
   "execution_count": null,
   "metadata": {
    "nbgrader": {
     "grade": false,
     "grade_id": "cell-code",
     "locked": false,
     "schema_version": 1,
     "solution": true
    }
   },
   "outputs": [],
   "source": [
    "// BEGIN SOLUTION\n",
    "// END SOLUTION\n",
    "int timeoutSeconds = 300;\n",
    "boolean testShouldPass = false;"
   ]
  },
  {
   "cell_type": "code",
   "execution_count": null,
   "metadata": {
    "nbgrader": {
     "grade": false,
     "grade_id": "cell-a74effbecac8c29b",
     "locked": true,
     "schema_version": 1,
     "solution": false
    }
   },
   "outputs": [],
   "source": [
    "boolean doSomething(int timeoutSeconds) {\n",
    "    long time = System.currentTimeMillis();\n",
    "    long end = time + (timeoutSeconds * 1000);\n",
    "    while(System.currentTimeMillis() < end) {\n",
    "        time = System.currentTimeMillis();\n",
    "    }\n",
    "    return true;\n",
    "}"
   ]
  },
  {
   "cell_type": "code",
   "execution_count": null,
   "metadata": {
    "nbgrader": {
     "grade": true,
     "grade_id": "cell-autograde-visible",
     "locked": true,
     "points": 1,
     "schema_version": 1,
     "solution": false
    }
   },
   "outputs": [],
   "source": [
    "%maven org.junit.jupiter:junit-jupiter-api:5.3.1\n",
    "import org.junit.jupiter.api.Assertions;\n",
    "\n",
    "if(testShouldPass) {\n",
    "    System.out.println(\"Waiting \" + (timeoutSeconds - 20) + \" seconds\");\n",
    "    Assertions.assertTrue(doSomething(timeoutSeconds - 20));\n",
    "} else {\n",
    "    System.out.println(\"Waiting \" + (timeoutSeconds + 10) + \" seconds\");\n",
    "    Assertions.assertTrue(doSomething(timeoutSeconds + 10));\n",
    "}\n",
    "System.out.println(\"Test(s) successfully completed\");"
   ]
  }
 ],
 "metadata": {
  "celltoolbar": "Create Assignment",
  "kernelspec": {
   "display_name": "Java",
   "language": "java",
   "name": "java"
  },
  "language_info": {
   "codemirror_mode": "java",
   "file_extension": ".java",
   "mimetype": "text/x-java-source",
   "name": "Java",
   "pygments_lexer": "java",
   "version": "11.0.1+13-LTS"
  }
 },
 "nbformat": 4,
 "nbformat_minor": 2
}
